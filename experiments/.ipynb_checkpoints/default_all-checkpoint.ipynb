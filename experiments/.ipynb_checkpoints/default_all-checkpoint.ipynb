{
 "cells": [
  {
   "cell_type": "markdown",
   "metadata": {},
   "source": [
    "# Import Libraries and setup Hugging Face"
   ]
  },
  {
   "cell_type": "code",
   "execution_count": 1,
   "metadata": {},
   "outputs": [],
   "source": [
    "# Pace Setup\n",
    "# !module load anaconda3\n",
    "# !module load gcc/12.3.0\n",
    "# !module load cuda/12.6.1"
   ]
  },
  {
   "cell_type": "code",
   "execution_count": 2,
   "metadata": {},
   "outputs": [
    {
     "name": "stdout",
     "output_type": "stream",
     "text": [
      "Sun Dec  8 01:01:23 2024       \n",
      "+-----------------------------------------------------------------------------------------+\n",
      "| NVIDIA-SMI 555.42.02              Driver Version: 555.42.02      CUDA Version: 12.5     |\n",
      "|-----------------------------------------+------------------------+----------------------+\n",
      "| GPU  Name                 Persistence-M | Bus-Id          Disp.A | Volatile Uncorr. ECC |\n",
      "| Fan  Temp   Perf          Pwr:Usage/Cap |           Memory-Usage | GPU-Util  Compute M. |\n",
      "|                                         |                        |               MIG M. |\n",
      "|=========================================+========================+======================|\n",
      "|   0  NVIDIA A100-PCIE-40GB          On  |   00000000:C1:00.0 Off |                    0 |\n",
      "| N/A   31C    P0             42W /  250W |       1MiB /  40960MiB |      0%      Default |\n",
      "|                                         |                        |             Disabled |\n",
      "+-----------------------------------------+------------------------+----------------------+\n",
      "                                                                                         \n",
      "+-----------------------------------------------------------------------------------------+\n",
      "| Processes:                                                                              |\n",
      "|  GPU   GI   CI        PID   Type   Process name                              GPU Memory |\n",
      "|        ID   ID                                                               Usage      |\n",
      "|=========================================================================================|\n",
      "|  No running processes found                                                             |\n",
      "+-----------------------------------------------------------------------------------------+\n",
      "/home/hice1/jzwicker3/DL-Final-Project/.env\n",
      "Hugging Face cache directory set to: /storage/ice1/3/5/jzwicker3/.cache/huggingface\n"
     ]
    },
    {
     "name": "stderr",
     "output_type": "stream",
     "text": [
      "/storage/ice1/3/5/jzwicker3/dl-fp/lib/python3.12/site-packages/transformers/utils/hub.py:128: FutureWarning: Using `TRANSFORMERS_CACHE` is deprecated and will be removed in v5 of Transformers. Use `HF_HOME` instead.\n",
      "  warnings.warn(\n"
     ]
    },
    {
     "name": "stdout",
     "output_type": "stream",
     "text": [
      "Using torch 2.5.1 with cuda 12.4\n",
      "Using device: cuda\n"
     ]
    }
   ],
   "source": [
    "!nvidia-smi\n",
    "\n",
    "import os\n",
    "\n",
    "os.environ['PYTORCH_CUDA_ALLOC_CONF'] = 'expandable_segments:True'\n",
    "\n",
    "import time\n",
    "from dotenv import load_dotenv\n",
    "import torch\n",
    "from sklearn.metrics import accuracy_score, confusion_matrix, classification_report\n",
    "from tqdm import tqdm\n",
    "from datasets import load_dataset\n",
    "from prettytable import PrettyTable\n",
    "\n",
    "# Update HF cache directory\n",
    "env_path = os.path.abspath(os.path.join(os.getcwd(), '..', '.env'))\n",
    "print(env_path)\n",
    "load_dotenv(env_path)\n",
    "hf_cache_dir = os.getenv('TRANSFORMERS_CACHE')\n",
    "os.makedirs(hf_cache_dir, exist_ok=True)\n",
    "print(f\"Hugging Face cache directory set to: {hf_cache_dir}\")\n",
    "\n",
    "from transformers import AutoModelForCausalLM, AutoTokenizer\n",
    "\n",
    "# Check cuda version torch is using\n",
    "print(f\"Using torch {torch.__version__} with cuda {torch.version.cuda}\")\n",
    "\n",
    "workspace_dir = os.getenv('WORKSPACE_DIR')\n",
    "\n",
    "seed = 42\n",
    "\n",
    "device = torch.device(\"cuda\" if torch.cuda.is_available() else \"cpu\")\n",
    "print(f\"Using device: {device}\")"
   ]
  },
  {
   "cell_type": "markdown",
   "metadata": {},
   "source": [
    "# Import the dataset\n",
    "It is stored in the dataset directory which is gitignored so run this block to repopulate if needed"
   ]
  },
  {
   "cell_type": "code",
   "execution_count": 3,
   "metadata": {},
   "outputs": [
    {
     "name": "stdout",
     "output_type": "stream",
     "text": [
      "Train dataset: 25000\n",
      "Test dataset: 500\n",
      "{'text': \"<br /><br />When I unsuspectedly rented A Thousand Acres, I thought I was in for an entertaining King Lear story and of course Michelle Pfeiffer was in it, so what could go wrong?<br /><br />Very quickly, however, I realized that this story was about A Thousand Other Things besides just Acres. I started crying and couldn't stop until long after the movie ended. Thank you Jane, Laura and Jocelyn, for bringing us such a wonderfully subtle and compassionate movie! Thank you cast, for being involved and portraying the characters with such depth and gentleness!<br /><br />I recognized the Angry sister; the Runaway sister and the sister in Denial. I recognized the Abusive Husband and why he was there and then the Father, oh oh the Father... all superbly played. I also recognized myself and this movie was an eye-opener, a relief, a chance to face my OWN truth and finally doing something about it. I truly hope A Thousand Acres has had the same effect on some others out there.<br /><br />Since I didn't understand why the cover said the film was about sisters fighting over land -they weren't fighting each other at all- I watched it a second time. Then I was able to see that if one hadn't lived a similar story, one would easily miss the overwhelming undercurrent of dread and fear and the deep bond between the sisters that runs through it all. That is exactly the reason why people in general often overlook the truth about their neighbors for instance.<br /><br />But yet another reason why this movie is so perfect!<br /><br />I don't give a rat's ass (pardon my French) about to what extend the King Lear story is followed. All I know is that I can honestly say: this movie has changed my life.<br /><br />Keep up the good work guys, you CAN and DO make a difference.<br /><br />\", 'label': 1}\n"
     ]
    }
   ],
   "source": [
    "# # Check if dataset is present\n",
    "# dataset_dir = os.path.join(workspace_dir, 'datasets')\n",
    "# os.makedirs(dataset_dir, exist_ok=True)\n",
    "\n",
    "# if not os.path.exists(os.path.join(dataset_dir, 'IMDB Dataset.csv')):\n",
    "#     !kaggle datasets download lakshmi25npathi/imdb-dataset-of-50k-movie-reviews --path {dataset_dir} --unzip\n",
    "\n",
    "# # Load dataset into dataframe\n",
    "# dataset = pd.read_csv(os.path.join(dataset_dir, 'IMDB Dataset.csv'))\n",
    "# print(dataset.head())\n",
    "\n",
    "# _, test_set = train_test_split(dataset, test_size=0.2, random_state=seed)\n",
    "\n",
    "imdb = load_dataset(\"imdb\")\n",
    "\n",
    "test_dataset = imdb['test'].shuffle(seed=seed).select([i for i in list(range(500))])\n",
    "train_dataset = imdb['train'].shuffle(seed=seed)\n",
    "\n",
    "print(f\"Train dataset: {len(train_dataset)}\")\n",
    "print(f\"Test dataset: {len(test_dataset)}\")\n",
    "print(test_dataset[0])"
   ]
  },
  {
   "cell_type": "markdown",
   "metadata": {},
   "source": [
    "# Define Experiment Functions"
   ]
  },
  {
   "cell_type": "markdown",
   "metadata": {},
   "source": [
    "# HUGE NOTE, the order of pos vs neg in the asking of sentiment matters alot, first one listed tends to be the default models answer"
   ]
  },
  {
   "cell_type": "code",
   "execution_count": 4,
   "metadata": {},
   "outputs": [
    {
     "name": "stderr",
     "output_type": "stream",
     "text": [
      "<>:1: SyntaxWarning: invalid escape sequence '\\['\n",
      "<>:1: SyntaxWarning: invalid escape sequence '\\['\n",
      "/scratch/1030276/ipykernel_2830920/1490258204.py:1: SyntaxWarning: invalid escape sequence '\\['\n",
      "  \"\"\"\n"
     ]
    }
   ],
   "source": [
    "\"\"\"\n",
    "To calculate the values of accuracy, recall, specificity, precision, and F-score, you need the confusion matrix or the key components: True Positives (TP), True Negatives (TN), False Positives (FP), and False Negatives (FN). Here's how each metric is calculated:\n",
    "\n",
    "1. **Accuracy**: The proportion of correctly classified instances (both positive and negative) out of all instances.\n",
    "   \\[\n",
    "   \\text{Accuracy} = \\frac{TP + TN}{TP + TN + FP + FN}\n",
    "   \\]\n",
    "\n",
    "2. **Recall (Sensitivity)**: The proportion of actual positives correctly identified.\n",
    "   \\[\n",
    "   \\text{Recall} = \\frac{TP}{TP + FN}\n",
    "   \\]\n",
    "\n",
    "3. **Specificity**: The proportion of actual negatives correctly identified.\n",
    "   \\[\n",
    "   \\text{Specificity} = \\frac{TN}{TN + FP}\n",
    "   \\]\n",
    "\n",
    "4. **Precision**: The proportion of predicted positives that are actually positive.\n",
    "   \\[\n",
    "   \\text{Precision} = \\frac{TP}{TP + FP}\n",
    "   \\]\n",
    "\n",
    "5. **F-score**: The harmonic mean of precision and recall, balancing the two.\n",
    "   \\[\n",
    "   \\text{F-Score} = 2 \\cdot \\frac{\\text{Precision} \\cdot \\text{Recall}}{\\text{Precision} + \\text{Recall}}\n",
    "   \\]\n",
    "\n",
    "\"\"\"\n",
    "\n",
    "def evaluate_model(model, tokenizer, device, dataset, top_k=50, shot_type='zero'):\n",
    "    # Data preparation\n",
    "    reviews = [example['text'] for example in dataset]\n",
    "    true_labels = [example['label'] for example in dataset]  # 0 for negative, 1 for positive\n",
    "\n",
    "    few_shot_rev_1 = \"Movie Review: I loved this movie ! So good plot ! \\n Only Answer if this Movie Review is Positive or Negative: Positive \\n\"\n",
    "    few_shot_rev_2 = \"Movie Review: I hated this, could be a lot better \\n Only Answer if this Movie Review is Positive or Negative: Negative \\n\"\n",
    "    few_shot_rev_3 = \"Movie Review: This move was so good I would recommend to all my friends! \\n Only Answer if this Movie Review is Positive or Negative: Positive \\n\"\n",
    "\n",
    "    # One function for both\n",
    "    if shot_type == 'zero':\n",
    "        # Define the prompts\n",
    "        prompts = [f\"Movie Review: {review} \\n Only Answer if this Movie Review is Positive or Negative:\" for review in reviews]\n",
    "    elif shot_type == 'few':\n",
    "        # Need to have prompts that do not ask if pos or neg vs neg vs pos since the model will just answer the first one\n",
    "        prompts = [f\"{few_shot_rev_1} {few_shot_rev_2} {few_shot_rev_3} Movie Review: {review} \\n Only Answer if this Movie Review is Positive or Negative:\" for review in reviews]\n",
    "\n",
    "    # Perform inference\n",
    "    predictions = []\n",
    "    inference_times = []\n",
    "\n",
    "    for idx, example in tqdm(enumerate(dataset), total=len(dataset), desc=\"Processing\", leave=True):\n",
    "        # Tokenize the input\n",
    "        inputs = tokenizer.encode(prompts[idx], return_tensors=\"pt\").to(device)\n",
    "\n",
    "        # Perform inference\n",
    "        start_time = time.time()\n",
    "        with torch.no_grad():\n",
    "            outputs = model(inputs)\n",
    "            logits = outputs.logits\n",
    "        end_time = time.time()\n",
    "\n",
    "        # Get the probabilities for the next token\n",
    "        next_token_logits = logits[:, -1, :]  # Only consider the last token's logits\n",
    "        probabilities = torch.softmax(next_token_logits, dim=-1)\n",
    "\n",
    "        # Get the top k most likely tokens\n",
    "        top_k_probs, top_k_indices = torch.topk(probabilities, top_k) # these are sorted in order of most likely to least likely\n",
    "\n",
    "        # Decode the top k tokens\n",
    "        top_k_tokens = [tokenizer.decode([token]) for token in top_k_indices[0]]\n",
    "\n",
    "        # print(f\"Top-k tokens for review {reviews[idx]}: {top_k_tokens}\")\n",
    "        \n",
    "        # Extract the sentiment prediction from the top k tokens, if the model did not predict a sentiment, default to negative\n",
    "        pred = -1\n",
    "        for token in top_k_tokens:\n",
    "            token_lower = token.strip().lower()\n",
    "            if token_lower == 'positive':\n",
    "                pred = 1\n",
    "                break\n",
    "            elif token_lower == 'negative':\n",
    "                pred = 0\n",
    "                break\n",
    "            \n",
    "        if pred == -1:\n",
    "            print(f\"Could not predict sentiment for review: {reviews[idx]}\")\n",
    "            print(f\"Top k tokens: {top_k_tokens}\")\n",
    "            pred = 0\n",
    "\n",
    "        # If the model did not predict a sentiment, default to negative\n",
    "        predictions.append(pred)\n",
    "        \n",
    "        inference_times.append(end_time - start_time)\n",
    "\n",
    "        \n",
    "    print(predictions)\n",
    "    # Calculate confusion matrix    \n",
    "    tn, fp, fn, tp = confusion_matrix(true_labels, predictions).ravel()\n",
    "\n",
    "    # Calculate metrics\n",
    "    accuracy = (tp + tn) / (tp + tn + fp + fn)\n",
    "    recall = tp / (tp + fn) if (tp + fn) > 0 else 0\n",
    "    specificity = tn / (tn + fp) if (tn + fp) > 0 else 0\n",
    "    precision = tp / (tp + fp) if (tp + fp) > 0 else 0\n",
    "    f_score = 2 * (precision * recall) / (precision + recall) if (precision + recall) > 0 else 0\n",
    "\n",
    "    # Calculate true and false answer percentages\n",
    "    total_samples = len(true_labels)\n",
    "    true_percent = predictions.count(1) / total_samples * 100\n",
    "    false_percent = predictions.count(0) / total_samples * 100\n",
    "    \n",
    "    # Calculate total and average inference times\n",
    "    total_inference_time = sum(inference_times)\n",
    "    average_inference_time = total_inference_time / len(inference_times)\n",
    "\n",
    "    return {\n",
    "        \"accuracy\": accuracy,\n",
    "        \"recall\": recall,\n",
    "        \"specificity\": specificity,\n",
    "        \"precision\": precision,\n",
    "        \"f_score\": f_score,\n",
    "        \"true_percent\": true_percent,\n",
    "        \"false_percent\": false_percent,\n",
    "        \"total_inference_time\": total_inference_time,\n",
    "        \"average_inference_time\": average_inference_time\n",
    "    }\n",
    "\n",
    "\n",
    "def create_results_table(results_dict, model_name=\"Model Results\"):\n",
    "    \"\"\"\n",
    "    Creates a formatted table from the results dictionary.\n",
    "    \n",
    "    Parameters:\n",
    "        results_dict (dict): Dictionary containing evaluation metrics.\n",
    "        model_name (str): Name of the model being evaluated.\n",
    "    \n",
    "    Returns:\n",
    "        str: Formatted table as a string.\n",
    "    \"\"\"\n",
    "    # Initialize a PrettyTable\n",
    "    table = PrettyTable()\n",
    "    \n",
    "    # Set the table title\n",
    "    table.title = f\"Results for {model_name}\"\n",
    "    \n",
    "    # Add columns\n",
    "    table.field_names = [\"Metric\", \"Value\"]\n",
    "    \n",
    "    # Add rows for each metric\n",
    "    table.add_row([\"Accuracy\", f\"{results_dict['accuracy']:.2f}\"])\n",
    "    table.add_row([\"Recall (Sensitivity)\", f\"{results_dict['recall']:.2f}\"])\n",
    "#     if \"specificity\" in results_dict:  # Specificity might not be included in some results\n",
    "    table.add_row([\"Specificity\", f\"{results_dict['specificity']:.2f}\"])\n",
    "    table.add_row([\"Precision\", f\"{results_dict['precision']:.2f}\"])\n",
    "    table.add_row([\"F-Score\", f\"{results_dict['f_score']:.2f}\"])\n",
    "    table.add_row([\"% True Predictions\", f\"{results_dict['true_percent']:.2f}%\"])\n",
    "    table.add_row([\"% False Predictions\", f\"{results_dict['false_percent']:.2f}%\"])\n",
    "    table.add_row([\"Total Inference Time (s)\", f\"{results_dict['total_inference_time']:.2f}\"])\n",
    "    table.add_row([\"Average Inference Time (s)\", f\"{results_dict['average_inference_time']:.2f}\"])\n",
    "    \n",
    "    # Return the table as a string\n",
    "    return table.get_string()"
   ]
  },
  {
   "cell_type": "markdown",
   "metadata": {},
   "source": [
    "# SmolLM-135M\n"
   ]
  },
  {
   "cell_type": "code",
   "execution_count": 5,
   "metadata": {},
   "outputs": [],
   "source": [
    "# Clears cuda from last run\n",
    "# if device == \"cuda\":\n",
    "#     torch.cuda.empty_cache()\n",
    "#     torch.cuda.ipc_collect()\n",
    "#     torch.cuda.reset_peak_memory_stats()\n",
    "\n",
    "#FROM https://huggingface.co/HuggingFaceTB/SmolLM2-135M TODO: Dont forget to cite the model in report\n",
    "checkpoint = \"HuggingFaceTB/SmolLM2-135M\"\n",
    "tokenizer = AutoTokenizer.from_pretrained(checkpoint)\n",
    "model = AutoModelForCausalLM.from_pretrained(checkpoint).to(device)"
   ]
  },
  {
   "cell_type": "markdown",
   "metadata": {},
   "source": [
    "## Zero Shot"
   ]
  },
  {
   "cell_type": "code",
   "execution_count": 6,
   "metadata": {},
   "outputs": [
    {
     "name": "stderr",
     "output_type": "stream",
     "text": [
      "Processing:   3%|▎         | 16/500 [00:00<00:12, 38.55it/s]"
     ]
    },
    {
     "name": "stdout",
     "output_type": "stream",
     "text": [
      "Could not predict sentiment for review: Don't pay any attention to the rave reviews of this film here. It is the worst Van Damme film and one of the worst of any sort I have ever seen. It would appeal to somebody with no depth whatever who requires nothing more than gunfire and explosions to be entertained.<br /><br />Seeing that this is directed by Peter Hyams it has made me realise that Peter has no talent as a director, but is very good at filming explosions and the like. However, movies need other elements as well; for example, a story. This one didn't have one. This might explain the awfulness of some of Mr. Hyams' more recent films, hardly any better than this one, really.<br /><br />One can't help wondering how some people ever were put behind a camera.\n",
      "Top k tokens: [' <', ' ', ' I', ' It', ' This', '\\n', ' The', ' Yes', '<', ' No', ' \"', ' If', ' Don', ' You', ' A', ' yes', ' Not', ' Van', ' \\n', '\\n ', ' Good', ' There', ' it', '</', ' Y', ' (', ' In', 'This', ' Very', '\\n  ', ' this', ' As', 'The', ' Well', 'I', ' One', ' Do', ' Mr', 'It', ' </', ' [', ' My', '<|endoftext|>', ' H', ' *', ' That', ' V', ' For', ' At', ' So']\n",
      "Could not predict sentiment for review: These days, writers, directors and producers are relying more and more on the \"surprise\" ending. The old art of bringing a movie to closure, taking all of the information we have learned through out the movie and bringing it to a nice complete ending, has been lost. Now what we have is a movie that, no matter how complex, detailed, or frivolous, can be wrapped up in 5 minutes. It was all in his/her head. That explanation is the director's safety net. If all else fails, or if the writing wasn't that good, or if we ran out of money to complete the movie, we can always say \"it was all in his/her head\" and end the movie that way. The audience will buy it because, well, none of us are psychologists, and none of us are suffering from schizophrenia (not that we know about) so we take the story and believe it. After all, the mind is a powerful thing. Some movies have pulled it off. But those movies are the reason why we are getting more and more of these crap endings. Every director/writer now thinks they can pull it off because, well, Fight Club did it and it made a lot of money. So we get movies like The Machinist, Secret Window, Identity, and this movie (just to name a few).\n",
      "Top k tokens: ['\\n', ' ', ' \\n', ' I', ' This', ' The', ' Yes', ' It', ' If', ' No', ' \"', '\\n ', ' We', ' You', ' A', '\\n\\n', ' [', ' In', ' None', ' There', ' Not', '  \\n', '\\n  ', ' These', '  ', ' Only', ' <', ' As', ' Please', ' What', ' My', ' \\n\\n', ' Y', ' All', ' Most', ' yes', ' **', ' (', ' Some', ' Well', ' Good', ' Here', ' For', ' So', ' *', ' Very', ' How', ' At', '<|endoftext|>', ' Do']\n",
      "Could not predict sentiment for review: Teenager Tamara (Jenna Dewan) has it rough. She's ridiculed by all the popular \"kids\" for being shy, bookish, frumpy and because of her interest in witchcraft. All of the football players and cheerleaders are especially angry at her for writing an article on steroid abuse for the school paper. On top of this, her dad's a drunk, her mom's not around and she's secretly in love with her supportive English teacher (Matthew Marsden). The popular kids set up a cruel prank to humiliate her, accidentally kill her during a struggle, bury the body in the woods and make a pact to keep silent. To their shock, the very next day Tamara walks back into the classroom looking seductive and, uh, dressed to kill. Yep, back from the dead and ready for supernatural revenge against everyone involved. She also takes time out to make her sexually abusive pop eat a beer bottle and tries to seduce her English teacher away from his wife (Claudette Mink), a guidance counselor at the school.<br /><br />Acting and writing are strictly mediocre. You can also tell the people responsible for this have seen such movies as CARRIE (1976), HELLO MARY LOU: PROM NIGHT II (1987) and THE CRAFT (1996) because it borrows wholesale from all three of those superior films. There's some gore (a guy cutting off his ear and tongue and then stabbing his eyeball probably being the best bit), a nasty vomiting scene and a few campy/witty one-liners. Not an awful film by any means, but not much originality went into it either.\n",
      "Top k tokens: ['\\n', ' ', ' <', ' I', ' The', ' This', ' Yes', ' It', ' \\n', ' Teen', ' If', '\\n ', ' No', ' \"', ' You', ' A', ' Tam', '<', ' </', ' Not', ' *', ' There', ' **', ' T', ' Y', '</', ' None', ' yes', '\\n  ', ' Very', ' (', ' My', ' In', ' What', ' Good', ' As', ' H', ' At', ' For', ' NO', ' [', '<|endoftext|>', ' it', ' All', ' Bad', ' We', ' if', '\\n\\n', ' Only', ' One']\n"
     ]
    },
    {
     "name": "stderr",
     "output_type": "stream",
     "text": [
      "Processing:   8%|▊         | 41/500 [00:01<00:10, 45.40it/s]"
     ]
    },
    {
     "name": "stdout",
     "output_type": "stream",
     "text": [
      "Could not predict sentiment for review: This is just one of those films which cannot justify much of anything that happens. These people are going on a trek: the young girl wants to photograph animals. There really are no Piranhas, but I guess the psychotic hunter guy is the real piranha. Anyway, there are lots of animals and there is lots of driving. There is considerable anti-gun talk, but we all know where that is going. Toward the end, there's lots of action and a rape thrown in. Somebody must pay, and they do. It would have been nice to have a couple of piranhas to sort of fill the thing out. There were lots of monkeys. If you fast forward through the dull parts, you have a tight little five minutes.\n",
      "Top k tokens: [' I', ' \\n', ' This', ' Yes', ' ', '\\n', ' It', ' The', ' If', ' No', ' There', ' You', ' Not', ' A', '\\n ', ' Well', ' In', ' Very', ' We', ' Maybe', ' [', ' As', ' Y', ' \"', ' yes', ' Some', ' My', ' At', ' Okay', ' Yeah', ' Probably', ' Absolutely', ' What', ' That', ' For', ' this', ' *', ' \\n\\n', ' These', ' Only', ' Good', '  \\n', ' None', '\\n\\n', ' **', ' <', ' Just', ' Although', ' Most', ' Oh']\n"
     ]
    },
    {
     "name": "stderr",
     "output_type": "stream",
     "text": [
      "Processing:  12%|█▏        | 61/500 [00:01<00:09, 46.12it/s]"
     ]
    },
    {
     "name": "stdout",
     "output_type": "stream",
     "text": [
      "Could not predict sentiment for review: This series takes a classic story and makes rubbish of it. Robin is somehow mystified by an elk-man in the forest and is embroiled in all sorts of druidism and outright satanic episodes. The story is more about him avoiding the evil sheriff than helping the poor. This is barely watchable. And to top all the ridiculousness they kill Robin at the end of series 2 and replace him with another actor. Some people may like this show as a fantasy show but it is NOT a Robin Hood show. If you want Robin fighting in king Richards name against Prince John and the sheriff and if you want Robin feeding the poor and oppressed, watch the classic series or the newest from the BBC.\n",
      "Top k tokens: ['\\n', ' ', ' This', ' \\n', ' Yes', ' I', ' The', ' If', ' It', ' No', '\\n ', ' [', '\\n\\n', ' You', '\\n  ', ' A', ' this', ' **', '  \\n', '  ', ' Not', ' \"', ' None', ' There', ' *', ' Y', ' \\n\\n', ' Very', ' yes', ' Only', ' As', ' In', ' Watch', '\\n   ', ' <', ' Good', ' Please', '<|endoftext|>', ' We', ' Robin', ' My', ' R', ' NO', '   ', ' Great', ' \\n   ', ' Well', ' For', ' All', ' At']\n",
      "Could not predict sentiment for review: Sex, drugs, racism and of course you ABC's. What more could you want in a kid's show!<br /><br />------------------------------------------- -------------------------------------------<br /><br />\"User Comment Guidelines <br /><br />Please note there is a 1,000 word limit on comments. The recommended length is 200 to 500 words. The minimum length for comments is 10 lines of text. Comments which are too short or have been padded with junk text will be discarded. You may only post a single comment per title. <br /><br />What to include: Your comments should focus on the title's content and context. The best reviews include not only whether you liked or disliked a movie or TV-series, but also why. Feel free to mention other titles you consider similar and how this one rates in comparison to them. Comments that are not specific to the title will not be posted on our site. Please write in English only and note that we do not support HTML mark-up within the comments\"\n",
      "Top k tokens: [' <', '<', ' ', '\\n', ' \\n', ' \"', ' The', '</', ' Yes', ' You', '\\n ', ' </', ' If', ' I', '\\n  ', ' This', ' A', '<|endoftext|>', ' [', ' No', ' http', ' (', ' It', ' \"<', '  ', ' Review', ' Please', ' Thank', ' What', ' Y', ' Movie', ' yes', ' Your', ' https', ' There', '[', ' We', ' My', ')<', ' User', 'http', ' **', ' Rating', ' -', 'The', '\\n\\n', ' Edit', ' For', ' How', ' Not']\n"
     ]
    },
    {
     "name": "stderr",
     "output_type": "stream",
     "text": [
      "Processing:  14%|█▍        | 71/500 [00:01<00:09, 46.34it/s]"
     ]
    },
    {
     "name": "stdout",
     "output_type": "stream",
     "text": [
      "Could not predict sentiment for review: There are certain scenes in this film (like the hero's first meeting with super-villainess Shirley Eaton) where it seems to be on the edge of breaking sexual taboos and doing its premise (females want to rule the world by making men slaves) justice, but it never dares to. The result is a film with no sexuality and some tame violence. Despite the choppy plot, the film is not overly bad until its climax, where its amateurishness runs rampant (terrible editing, overuse of stock footage). Worth seeing only as a curio. (*1/2)\n",
      "Top k tokens: [' ', ' Yes', ' I', '\\n', ' This', ' It', ' The', ' \\n', ' There', ' *', ' No', ' If', ' **', ' You', ' Not', '\\n ', ' [', ' \"', ' A', ' Only', ' ***', ' (', ' As', ' Y', ' My', ' yes', ' None', '\\n  ', ' Very', ' In', ' For', '\\n\\n', ' We', ' Absolutely', ' <', ' At', ' it', ' Good', ' That', ' Please', ' Okay', ' Great', ' this', ' What', ' Some', ' One', ' Well', ' True', ' F', ' Based']\n",
      "Could not predict sentiment for review: This movie is really bad, trying to create scientific explanations for zombies always ends up taking away credibility from the history of the movie. There are so many things i could point about the movie that i could almost write a book on how much the movie sucks. For instance, there were like 50 people on the plane, they killed like 100 and they kept coming, apparently the \"virus\" gives hepatic complications because everybody had yellow eyes, also the virus makes people roar like lions or something, and the virus not only regenerates tissue as it also gives superhuman strength, not to mention that this virus messes up peoples hair. It's also important to notice that if you shoot someone with a pistol (probably only happens on planes) that person is kicked back in the air. Remember that if you are escorting a prisoner on a plane and you loose him, always look inside the drawers and cabinets the size of a bottle, you never know where those bastards are going to hide. And if by any chance you can land a plane full of zombies against a mountain and survive (happens all the time), after watching dozens of people being killed, just walk away from the plane, watching the sunrise and making jokes about dating the flight attendant. :)\n",
      "Top k tokens: ['\\n', ' This', ' I', ' ', ' Yes', ' \\n', ' The', ' It', ' If', ' No', ' You', '\\n ', ' There', ' \"', ' this', ' Y', ' A', ' yes', '\\n\\n', ' Not', ' My', ' In', ' <', ' Only', ' [', ' Very', ' *', ' As', ' Good', ' Well', ' We', ' For', ' **', ' Bad', ' it', '\\n  ', ' Yeah', ' That', ' Please', ' None', ' NO', ' if', ' Just', ' So', ' Okay', ' (', ' N', ' What', ' Overall', ' Probably']\n"
     ]
    },
    {
     "name": "stderr",
     "output_type": "stream",
     "text": [
      "Processing:  17%|█▋        | 86/500 [00:01<00:08, 46.24it/s]"
     ]
    },
    {
     "name": "stdout",
     "output_type": "stream",
     "text": [
      "Could not predict sentiment for review: All I can do is echo the sentiment already expressed by some of the other commenters. This is CITY OF GOD meets HAPPY DAYS. The bipolarity of the ruthless thug (one minute a ruthless killer, the next minute a Luv's diaper commercial) is completely unconvincing. You can approach it in one of two ways: (1) A gritty, realistic movie turned sappy; or (2) a sappy, ABC-afterschool-special with profanity, violence and animal cruelty. Either way it just don't fly, do it? Why then has it received so much praise? As others have implied, it gets the \"conscience vote\" from the west. Show us pictures of poverty to contrast against our fluffy, double-wide theatre seats and 44-oz cokes, and we'll applaud in a heartbeat. But--oh--don't forget to candy coat it, because the bitter pill of reality (tantalizing as it is) is hard for us to swallow.<br /><br />I'm terribly disappointed that this film would receive so many awards and accolades, especially when there are far more deserving works of film out there. All I can say is: beware of any film that receives awards (Hollywood Oscars = sweeping, syrupy tripe. Cannes Film Festival = beard-stroking, artless propaganda). To find the real gems, you'll have to work hard at it.\n",
      "Top k tokens: [' ', ' <', '\\n', ' I', ' Yes', ' The', ' This', ' No', ' All', '\\n ', ' C', ' \\n', ' It', '<', ' \"', ' A', ' You', ' If', ' None', '\\n  ', ' H', ' (', ' yes', ' Please', ' Y', ' Not', ' [', '<|endoftext|>', ' Good', '</', ' </', ' My', ' Only', ' *', ' What', ' NO', ' N', ' In', ' Bad', ' F', ' We', ' Very', ' Thank', ' One', ' Do', '\\n\\n', ' S', ' L', ' There', ' Love']\n",
      "Could not predict sentiment for review: Now and again, a film comes around purely by accident that makes you doubt your sanity. We just finished studying the novel, \"Northanger Abbey\", at school and decided to refresh our memory of this unexciting piece of humourless garbage with the BBC adaptation.<br /><br />The funny thing about Northanger Abbey is that it actually makes you want to kill yourself. The film is NOTHING like the book, for example, the subtly evil characters seem to have been turned into transparent stereotypes. John Thorpe looks like a leprechaun on acid while Isabella plays the role of slut. Catherine, the main character, is the most depressingly stupid and irritating actress on god's earth (she looks like a coffee addict, her eyes are like basketballs) whilst Mr Tilney looks and acts like a retired porno stunt double. The plot goes completely off the rails at certain points of the film, I don't know what the hell the director was thinking when for no reason at all, a 7 year old black kid who we've never met before takes the main character out of the abbey and starts cartwheeling in front of her. Yes, that's right, cartwheeling. Nonsense of this kind is occasionally interrupted by Catherines \"fantasies\" in which she is being carried around a cathedral by an ogre.<br /><br />Northanger Abbey is basically visual euthanasia so if you want to murder your boss or something like that, BBC have basically discovered a new way to kill someone. Northanger is a barely laughably bad film. Don't watch it unless you're in a padded cell.\n",
      "Top k tokens: ['\\n', ' ', ' Yes', ' <', ' I', ' No', ' The', ' It', ' \"', '\\n ', '<', ' This', ' If', ' yes', ' Not', ' You', ' A', ' \\n', '\\n  ', ' N', '</', ' NO', '<|endoftext|>', ' North', ' Y', ' </', ' http', '\\n   ', ' Only', ' (', ' In', ' Now', ' My', ' Very', ' [', ' There', ' H', ' Please', ' Good', ' What', ' *', ' As', ' We', ' Do', ' For', '\\n\\n', ' Absolutely', ' Never', ' By', 'Yes']\n",
      "Could not predict sentiment for review: I viewed my videotape last night, for the first time in at least ten years. I found the work itself and the performances just as gripping as they were in my memory. George Hearn, of course,was the master of the role of Sweeney; there is never a touch of softness in his determination to wreak vengeance on those he believes caused his wife's death and his daughter's disappearance; at least not until the end, when he discovers that his thirst for revenge has led him to murder his wife. Angela Lansbury, on the other hand, creates a more complex portrayal, as Mrs. Lovett. She understood that Sondheim wanted that role to be something of a \"comic\" counterpart to Sweeney; and even brings some tenderness into her courtship of Sweeney and her nurture of the boy Tobias. For those with long memories, this performance takes one back to her debut performances in The Picture of Dorian Grey and Gaslight; long before Murder, She Wrote. Only a year ago I saw the musical at Lyric Opera of Chicago. with current opera superstar Brynn Terfel as Sweeney. Others have commented on the operatic quality of the score. My conclusion is that \"Sweeney\" works better with actors who can at least handle the vocal lines, than with opera performers who have limited acting skills. As a final note, I commend the performer who portrayed Tobias. with his mixed loyalties and confusion about what is going on around him. It seemed appropriate that he had virtually the last word.\n",
      "Top k tokens: [' I', ' ', ' \\n', '\\n', ' Yes', ' The', ' This', ' It', ' No', ' If', '\\n ', ' \"', ' A', ' S', ' My', ' Please', '\\n  ', ' You', ' [', ' __________________', '  ', ' Y', '\\n\\n', ' In', ' yes', ' Thank', ' *', ' \\n\\n', ' Only', ' Not', ' What', ' There', ' As', ' **', ' An', '<|endoftext|>', ' For', ' George', ' By', '  \\n', ' Mr', ' We', ' Your', ' (', ' <', ' Great', ' Good', ' M', ' Very', ' L']\n"
     ]
    },
    {
     "name": "stderr",
     "output_type": "stream",
     "text": [
      "Processing:  19%|█▉        | 96/500 [00:02<00:08, 45.13it/s]"
     ]
    },
    {
     "name": "stdout",
     "output_type": "stream",
     "text": [
      "Could not predict sentiment for review: Just watched this today on TCM, where the other reviewers here saw it.<br /><br />Sorry that I was the only one to find Davies a weak actress, with a truly awful attempt at an Irish (Irish-American or otherwise) accent. As she's the star, it was sort of hard for me to get past that -- especially as the other reviewers have said that this was her finest performance.<br /><br />Another particularly terrible Davies performance was in \"Marianne\" (1929), which I also watched today. In this film, given a 9 of 10 rating here, her accent switches from that of a (correct) French woman to an odd combination of Italian and Swiss.<br /><br />Interestingly, in TCM's one-hour bio of Davies -- \"Captured on Film: The True Story of Marion Davies\" (2001) -- film historian Jeanine Basinger claims that \"one of the things that you note about Marion Davies in her sound work is how good she is at doing accents.\" Of course this bio also includes commentary by fans (make of that what you will).<br /><br />Davies was a very attractive young woman, and by all accounts a terrific comedienne in real life.<br /><br />And because a part of her anatomy added immeasurably to the real-life answer to Joseph Cotten's character's search for the meaning behind Kane's final word in the opening scene of the great \"Citizen Kane,\" she's earned her spot among the great stories if Hollywood's history.<br /><br />But I think Welles & Mankiewicz got it right for the most part with the \"Susan Alexander\" facsimile of the real article.<br /><br />Don't bother voting as to whether you agree or disagree with this post as I really couldn't care less.\n",
      "Top k tokens: [' <', ' I', ' ', '<', '\\n', ' \"', ' Yes', ' This', ' The', ' Well', ' It', ' No', ' If', ' You', '\\n ', ' Good', '\\n  ', ' A', ' \\n', '</', ' Just', ' </', ' Not', ' (', ' yes', ' http', ' My', 'I', ' Thank', ' That', ' As', '\\n     ', ' In', ' Don', '<|endoftext|>', ' Only', ' *', ' One', ' Please', ' What', '\\n   ', ' Very', ' Leave', ' Here', ' [', ' this', ' Y', 'This', ' For', ' There']\n",
      "Could not predict sentiment for review: Mr Baseball was a fun video rental with my Fiancé Susan Nauss. Susan said that she had been looking forward to seeing the movie. Ken Takakura Oda as a tough yet Honorable Manager makes sense. Ken Takakura has made so many wonderful Asian movies, I correct the one reviewer and say Takakura is still a Cinematic Presence with films like Hotari. Of course everyone likes Tom Selleck yet Ken Takakura is the better dramatic actor of the two. Today someone accused me of being Yakuza, well I say that My Great Uncle Shadow President Jack F Kennedy myself and others are part of the legitimate Human leadership in our Universe and thanks to our coCreators Humans are free people fighting all the parts of adversity that President Kennedy talked about in his inaugural address. To be honest someone has kept food prices very low in Canada on things like bread. In honor of our CoCreators please stop eating amphibians reptiles and eggs. I hope that there will one day be a sequel to Mr Baseball with Father Ken Takakura Oda still as Manager. Thank you to IMDb for supporting freedom of speech like the kind President George W Bush and I support. Support IMDb.\n",
      "Top k tokens: [' ', '\\n', ' Mr', ' \\n', ' I', ' Yes', ' The', ' [', ' This', ' If', ' It', '\\n ', ' Please', ' My', ' <', ' No', ' Thank', '\\n\\n', '  ', ' You', ' Y', ' A', '\\n   ', ' \\n\\n', ' \"', '<|endoftext|>', ' \\n   ', '\\n  ', ' **', ' https', ' yes', ' http', ' There', ' -', ' What', ' *', ' Ken', '  \\n', ' In', ' (', ' M', ' __________________', 'Mr', ' Not', ' Would', ' my', ' Your', ' $', ' We', ' Only']\n"
     ]
    },
    {
     "name": "stderr",
     "output_type": "stream",
     "text": [
      "Processing:  22%|██▏       | 111/500 [00:02<00:08, 46.52it/s]"
     ]
    },
    {
     "name": "stdout",
     "output_type": "stream",
     "text": [
      "Could not predict sentiment for review: Great cult flick for MST-3K types: Richard Boone is a mess -- bad hair, arthritis, even his dark glasses aren't right; about as good as a bad dino-flick can get... actually, that charging saber-toothed Styracosaurus was pretty cool -- maybe Spielberg should take a couple of notes from that one.\n",
      "Top k tokens: [' Yes', ' ', ' I', '\\n', ' It', ' The', ' This', ' No', ' Not', ' \\n', ' Great', ' If', ' Very', ' A', ' Absolutely', ' You', ' \"', ' Y', ' [', ' *', ' <', ' Good', ' Yeah', ' Sp', ' Well', ' Probably', ' M', ' There', ' Richard', ' We', ' In', ' That', ' Bad', '\\n ', ' H', ' As', ' Maybe', ' R', ' Def', ' My', ' **', ' For', ' Only', ' S', ' He', ' Wow', ' N', ' None', ' F', ' What']\n",
      "Could not predict sentiment for review: It was probably watching this TV movie that got me interested in the debate as to whether \"Anna\" was really Tsar Nicholas's daughter Anastasia. Since seeing it I have made a point of watching various documentaries and also bought a book. Despite the evidence that has been discovered since the film was released, I sometimes still think she was. Such is the power of Amy Irving's acting in this 2-parter which is somewhat liberal with the historical facts, but packed to the brim with tear-jerking drama and Irving's totally convincing performance.<br /><br />I was not consciously aware of Irving before this, though I must have seen her without realizing it in \"Carrie\" (another favourite film). In \"Anasasia\", I never felt for one moment that \"it's only a film\". For me this woman WAS Anastasia, and when part one ended with her in the railway carriage meeting members of the royal family, I knew that come hell or high water I had to see the second part. I just wanted to see how she would prove that she was who she claimed to be, and as the story progressed I felt an intense hatred of Rex Harrison's character, though I greatly admire him as an actor.<br /><br />When I saw the movie listed again in the TV guide, I convinced my Mother that we should watch it, and afterward she thanked me for doing so, being almost as keen as I had been to watch part 2. Then I bought the video and can totally recommend it. \"Anastasia\" is one of those rare TV movies that you simply must watch for the sheer enjoyment of watching the finest acting I have ever seen on TV, and it doesn't really matter whether you believe the legend or not.\n",
      "Top k tokens: [' I', ' It', ' ', ' <', ' Yes', '\\n', ' \"', ' The', ' \\n', ' No', ' This', '\\n ', ' If', '<', '\\n  ', ' You', ' A', ' An', ' it', ' yes', ' Anna', ' Not', ' As', ' In', ' My', '<|endoftext|>', ' Y', ' Thank', ' There', ' </', ' -', ' Please', ' For', '</', ' *', 'It', ' We', ' Good', ' (', ' >', ' Very', ' What', ' That', ' Only', 'I', ' [', ' One', ' At', ' By', ' Do']\n"
     ]
    },
    {
     "name": "stderr",
     "output_type": "stream",
     "text": [
      "Processing:  24%|██▍       | 121/500 [00:02<00:08, 43.33it/s]"
     ]
    },
    {
     "name": "stdout",
     "output_type": "stream",
     "text": [
      "Could not predict sentiment for review: This interesting film noir features three very good performances: Sanders, Patrick, and Blackmer. The scenes between Sanders and Patrick are particularly outstanding. Demming, as the detective, is unfortunately not nearly as good. He lacks the intelligence, strength, and cynical world view of a Bogart. Had Humphrey played this part, we could have had a classic.<br /><br />Pace, location (a library), and atmosphere are all good. But there are a few plot holes. Sanders strongly fears Blackmer and the ruthless organization (Nazis) he represents. Yet after mistakenly killing Blackmer, Sanders seems to experience no anxiety or remorse. Sanders then seizes the library and its occupants by using the ruse that he and his men are detectives investigating the murder. However, Sanders' hit man later tries to kill Demming by shooting him (without a silencer), even though the many other detainees could have been expected to hear, and become alarmed by, the noise. Finally, Sanders' hit man tries to kill Roberts, who has discovered the truth, but when she faints, he inexplicably does not. <br /><br />What bothered me the most, however, was that the chance for a great and unexpected conclusion was wasted. Throughout the film Patrick is portrayed as a smart, hard-as-nails sociopath fearing nothing. Yet at the end, she flees panic-stricken from the last surviving Nazi, a brutish thug. By the time the cops find him, he has killed her. And she ends up being just another weak, stereotypical victim. What should have happened is this: the cops find the Nazi thug, but he is dead. She has cleverly killed him, and then vanished -- to continue her evil ways.\n",
      "Top k tokens: [' This', ' <', ' I', ' The', '\\n', ' ', ' Yes', ' It', ' If', ' No', '<', ' A', ' \\n', ' \"', ' </', ' You', '</', ' There', ' Not', ' In', '\\n ', ' this', ' My', ' Good', ' We', ' What', ' As', ' [', ' Only', ' **', '\\n  ', 'This', ' (', ' Very', ' S', ' One', ' None', '<|endoftext|>', ' An', ' *', ' Please', ' For', ' yes', ' Dem', ' At', ' Thank', ' Sanders', ' Well', ' P', ' That']\n",
      "Could not predict sentiment for review: Deepa Mehta's \"Fire\" is groundbreaking, bold, and artistic. A masterful social commentary on the plight of the women from conservative, upper middle class Indian households, this is a film no one should miss. Shabana Azmi and Nandita Das give stellar performances by underplaying their characters as much as possible. A.R. Rahman's music is the work of the genius and almost plays the role of another character in the film. Mehta uses Rahman's score and together, they create such amazing sound montages that effectively portray the views of the world around Radha and Sita whenever they look to each other for support. This film is not about lesbianism as many have branded it. Lesbianism is just a part of the film. It is unfortunate that most people tend to write the film off calling it taboo instead of giving it a chance and looking at its real meaning.\n",
      "Top k tokens: ['\\n', ' ', ' \\n', ' Yes', ' No', ' I', ' [', ' The', ' This', ' If', '\\n\\n', '\\n ', ' It', ' \"', ' A', '<|endoftext|>', ' You', '  ', '\\n  ', ' **', ' Please', '  \\n', ' \\n\\n', ' <', ' Deep', ' None', ' Y', ' My', ' Not', '\\n\\n\\n', ' *', ' Only', ' �', ' What', ' N', '\\n   ', ' As', '\\n    ', ' We', ' In', ' yes', ' ***', ' View', ' Very', ' There', ' Absolutely', ' -', ' Fire', '   ', ' Do']\n"
     ]
    },
    {
     "name": "stderr",
     "output_type": "stream",
     "text": [
      "Processing:  27%|██▋       | 136/500 [00:03<00:08, 44.46it/s]"
     ]
    },
    {
     "name": "stdout",
     "output_type": "stream",
     "text": [
      "Could not predict sentiment for review: A woman in love with her husband (he's suicidal) decides to have a baby to save his life. She's been to a fertility clinic - as has the lover she takes - so both know how artificial insemination works; but, instead of using the method thousands of people use every year around the world (the $5 turkey baster), they engage in coitus. We also are to believe that although the immigrant is in love with his fiancée, he doesn't suggest the obvious alternative to intercourse. Further, even though this is a business arrangement, the first time she's with her sperm donor, she takes off all her clothes, as if it's a seduction. Plus, her husband doesn't notice when $30,000 goes missing from their bank accounts. Does all this seem to demand more willing suspension of disbelief than even most Hollywood fare? Far fetched on all counts.\n",
      "Top k tokens: ['\\n', ' ', ' \\n', ' Yes', ' A', ' I', ' The', ' If', ' This', ' It', ' No', '\\n ', ' \"', ' Not', ' We', ' You', ' In', ' [', ' As', ' An', ' None', ' There', ' **', ' *', ' Y', '  ', ' <', ' Only', '  \\n', ' For', '\\n  ', '\\n\\n', ' What', ' Very', ' \\n\\n', ' My', ' At', ' \\n   ', '<|endoftext|>', ' a', ' yes', ' Absolutely', ' F', ' One', ' Most', '\\n   ', ' Good', ' Maybe', ' Based', ' By']\n",
      "Could not predict sentiment for review: \"Lights of New York\" originally started out as an experimental two reel Vitaphone short that eventually snowballed into the first all talkie feature film. Helene Costelle was supposedly one of the most beautiful actresses in Hollywood and sister to (in my opinion the real beauty) Dolores Costello, who seemed to get all the breaks. Poor Helene is best known for appearing in this pretty dreary film that bought a revolution to Hollywood!!<br /><br />Two bootleggers on the lam in \"Main Street\" convince a couple of small town barbers to try their luck on Broadway. The barbers Eddie (Cullen Landis) and Gene (Eugene Palette) don't realise that their barber shop is soon a cover for illegal bootlegging activities. They soon do realise it and regret the day they left their small town. The only thing keeping them going is the loan that Eddie's mother gave them and that they desperately want to pay back. Eddie becomes re-acquainted with Kitty Lewis (Helene Costello) a girl from his home town who has made good on Broadway. Kitty is worried about \"Hawk\" Miller (Wheeler Oakman) who is always hanging around her but Eddie, innocently, thinks she is exaggerating as \"Hawk\" already has a girlfriend Molly (Gladys Brockwell) but to reassure her he gives her a little handgun to frighten unwanted admirers away. \"Hawk\", who has killed a police officer and has the \"Feds\" closing in, decides to frame Eddie. Meanwhile Molly is getting pretty fed up with \"Hawks\" treatment of her and after a showdown where he tells her he is after a chicken and not an old hen the stage is set for - Murder!!!<br /><br />The fact is it isn't completely awful, apart from gangsters and showgirls alike speaking in their best elocution voices and that was still happening in films in 1930. Gladys Brockwell (if a trifle melodramatic) and Eugene Palette (quite natural) were okay and were the most seasoned actors in the cast. There was no John or Ethel Barrymore to be seen - Cullen Landis and Helene Costello soon returned to the obscurity from which they had come. I also didn't notice much of the \"hidden mike\" - where people had to be grouped around different objects ie a telephone or sitting on a couch before they could engage in conversation. People who saw it at the cinema probably started to think that all policeman talked in that flat monotone as that trend continued in many early talkies ie \"Little Caesar\" (1930). In any case they were probably intrigued by the novelty of a completely all talkie - with some singing and dancing - film in 1928.<br /><br />Recommended.\n",
      "Top k tokens: [' \"', ' ', ' <', ' I', '\\n', ' Yes', ' The', ' It', '<', ' No', ' This', '\\n  ', ' yes', '\\n ', ' If', ' \"<', ' \\n', ' http', ' A', ' Not', ' You', ' (', ' </', ' [', ' **', ' -', '</', ' Very', ' My', ' it', ' __________________', ' *', ' \"\"', ' ***', ' Good', ' There', ' Please', ' \"...', '1', ' L', ' H', ' Only', 'http', '<|endoftext|>', ' None', ' no', ' In', \" '\", ' One', ' \"+']\n"
     ]
    },
    {
     "name": "stderr",
     "output_type": "stream",
     "text": [
      "Processing:  29%|██▉       | 146/500 [00:03<00:08, 43.85it/s]"
     ]
    },
    {
     "name": "stdout",
     "output_type": "stream",
     "text": [
      "Could not predict sentiment for review: Don't listen to what the critics have always said about this cute, charming little movie. Madonna is GREAT in this clever comedy. I worked at a video store for several years and suggested this movie to lots of customers- no one EVER brought it back and screamed at me for telling them to rent it. Everyone always enjoyed it. It's actually a great movie for kids, too.\n",
      "Top k tokens: [' ', '\\n', ' Yes', ' I', ' \\n', ' It', ' This', ' The', ' Don', ' No', ' If', ' \"', ' Y', ' Not', ' <', ' You', '\\n ', ' [', ' A', ' Absolutely', ' *', ' yes', ' Good', ' Mad', ' **', ' Very', '\\n\\n', ' We', '\\n  ', ' There', ' NO', ' Only', ' My', ' it', ' Do', ' Bad', ' Great', ' Please', '  ', ' None', ' N', ' What', '  \\n', ' In', ' Wow', ' Yeah', ' M', ' Maybe', ' For', ' this']\n",
      "Could not predict sentiment for review: Before seeing this film, I suggest the viewer puts away any expectations that the victims of the crimes depicted will get equal treatment and consideration as the perpetrator. There have been many films about crime victims. This one is about the murderer.<br /><br />\"Dead Man Walking\" finds realism in simplicity of the story: there are no crack lawyers coming to save William Poncelet and no dramatic story twists. The film does not attempt to put him in a good light; he is guilty, he is repugnant, is a racist, and was responsible for heinous murders. Given all this, we are asked to do something very difficult: look at him as a human being despite his crimes. In this way, the film challenges the notion that the death penalty provides \"justice\". Whether you are for or against the death penalty, the film raises questions about whether the guilty can find redemption, inequity in the justice system, and the appropriateness of the death penalty.<br /><br />Great performances by both Susan Sarandon and Sean Penn. In particular the last moments of the film show the true depth of Penn's ability.\n",
      "Top k tokens: [' <', ' I', ' \"', ' The', ' This', '<', ' Yes', ' ', ' If', ' It', ' No', '\\n', ' After', ' You', ' There', ' \\n', ' In', ' A', ' Before', ' Good', ' yes', ' Not', ' Only', '</', '\\n  ', ' We', ' As', ' Very', ' Please', ' When', ' What', ' None', ' Great', ' For', ' Based', ' One', ' \"<', ' </', ' At', '\\n ', ' if', 'The', ' My', ' this', 'This', ' the', ' Although', ' (', ' To', ' Since']\n",
      "Could not predict sentiment for review: Wagon Master is a very unique film amongst John Ford's work. Mainly because it's the only one that is based on a story written by John Ford himself, the story that was elaborated by Frank Nugent and director's son  Patrick Ford and turned into a screenplay, and because of director's personal opinion regarding it, Wagon Master is the film John Ford called the one which `came closest to being what I had wanted to achieve', to say so is not to say a little, but as Ford confessed once to Lindsay Anderson, his favourite was nonetheless My Darling Clementine and not any other.<br /><br /> Wagon Master has all ingredients one might expect to find in a John Ford's film. Wonderful cast delivering his best, thou not featuring any major stars, except the most `fordian' of all actors  Ben Johnson. Very peculiar small characters, who provide an obligatory comic relief, and Wagon Master has quite a few of them such as horn blowing Sister Ledyard (Jane Darwell) in her shot but very inspired gigs. And last but not least legendary Monument Valley with John Ford's fifth passage through it after Stagecoach, My Darling Clementine, Fort Apache and She Wore a Yellow Ribbon.<br /><br /> The film starts with two friends cowboys Travis Blue (Ben Johnson) and Sandy Owens (Harry Carey Jr) being hired to be Wagon Masters or guides for a caravan of Mormon settlers who are headed to Silver Valley, a place that's for them like a promised land. On their way they are joined by a very peculiar Dr. Locksley Hall (Alan Mowbray) with two beautiful women, who are supposedly his wife and daughter and who call themselves actors. They are headed in the same direction simply because they were recently driven out of the nearest town and have no other place to go. Nothing particularly unpleasant happens till they bump into Cleggs, a dangerous family gang consisting of father and his three sons who are on the run from the Marshal of the town where they recently committed murder and bank robbery.<br /><br /> Overall Wagon Master is no more nor less than one more precious pearl in a necklace of John Ford's wonderful Westerns. A must see. 9/10<br /><br />\n",
      "Top k tokens: [' ', ' <', '<', '\\n', ' Yes', ' \\n', ' John', ' I', '<|endoftext|>', ' W', '</', ' The', '\\n  ', ' </', ' No', '\\n ', 'W', ' http', ' yes', ' If', ' This', ' \"', 'http', ' A', ' Please', ' It', ' You', ' F', 'John', ' Y', ' [', '  ', ' https', ' My', ' D', '\\n\\n', ' T', ' (', ' $', ' What', 'Yes', ' Thank', 'No', '1', ' Not', 'The', 'https', ' N', ' H', ' Will']\n"
     ]
    },
    {
     "name": "stderr",
     "output_type": "stream",
     "text": [
      "Processing:  34%|███▍      | 171/500 [00:03<00:07, 45.68it/s]"
     ]
    },
    {
     "name": "stdout",
     "output_type": "stream",
     "text": [
      "Could not predict sentiment for review: This short was director Del Lord's last and only Shemp short. The problem: It was quite weak and the cafe scene was pretty much a carbon copy of a Curly short \"Busy Buddies\" (1944). The interrogation scene was pretty funny, and the beginning part of the cafe part. But there are a lot of plotholes in this short. For example, why are the stooges hiding in the garbage can when the police come? In the remake, \"Of Cash And Hash\"(1955), director Jules White fixes this and the reason for the stooges hiding in the garbage can is because there is a gunfight between the police and the armored car robbers. The scene in which Moe is having trouble with the oyster was done before with Curly in \"Dutiful But Dumb\" (1941). The spooky house part wasn't all that great except for the hilarious scene on the outside of the spooky house. To top it off, the ending had no sting to it. Rating: C-\n",
      "Top k tokens: [' This', ' ', ' I', ' The', '\\n', ' \"', ' Yes', ' It', ' If', ' No', ' Only', ' \\n', ' A', ' Not', '\\n ', ' You', ' None', ' There', ' C', ' My', ' *', ' Very', ' In', ' Rating', ' this', ' **', ' [', '\\n\\n', '<|endoftext|>', ' �', ' Please', '\\n  ', ' R', ' M', ' ***', ' Good', ' For', ' S', ' (', ' Based', ' We', ' One', ' All', ' Thank', ' Director', ' __________________', ' Great', ' Y', ' Movie', ' As']\n",
      "Could not predict sentiment for review: The director seems like a good, solid man. His parents struggle with the same issues we all cope with. They strayed from each other. They loved each other. They misunderstood each other. And the poor audience has to sit through ninety minutes of what is possibly the trials and tribulations of one of the most boring families ever to come out of Long Island.<br /><br />There are few interesting choices in this documentary--the music is banal, the filming uninspired, and the story is the same story that has played out on every Birch Street in every town in America. I don't mean to sound too harsh--seldom has a sweeter, more well-intentioned documentary been made. The director is the kind of man with whom you'd want to be friends. You just wish he had struggled as much presenting the material as his parents did keeping their marriage alive.\n",
      "Top k tokens: [' The', ' I', '\\n', ' Yes', ' ', ' <', ' This', ' It', ' No', ' \\n', ' If', ' \"', ' Not', ' A', ' You', '<', ' There', ' yes', '\\n ', ' In', ' Very', ' *', ' My', ' As', ' </', '\\n  ', ' Good', ' **', 'The', ' We', ' Only', ' Y', '</', ' For', ' None', ' At', ' Bad', ' One', ' Nothing', ' What', ' Absolutely', ' An', ' That', ' the', ' Well', ' Maybe', ' it', ' (', ' Although', ' this']\n"
     ]
    },
    {
     "name": "stderr",
     "output_type": "stream",
     "text": [
      "Processing:  36%|███▌      | 181/500 [00:04<00:06, 45.95it/s]"
     ]
    },
    {
     "name": "stdout",
     "output_type": "stream",
     "text": [
      "Could not predict sentiment for review: Gordon Scott made some good Tarzan movies, but this is not one of them.<br /><br />As I watched it, wincing at the bad, obviously interior sets and the hollow wooden \"clonking\" sounds as they walked across supposedly dirt trails, and cringing at the bad dialog and worse acting among the supporting cast, I kept thinking, \"Sheesh! This is TV show level!\" Then I find out it was, indeed, three TV show pilot episodes woven seam-fully into one.<br /><br />It's nice to see Scott get outside (alone), away from the lame sets, in a few of the scenes; and the fights do have some pretty nice moves... but oh, ow, and ouch as to the dialog. And did I mention the acting? Heck, Cheetah (or \"Cheta,\" in this version) was a better actor than most of the humans.<br /><br />And that's not saying much.<br /><br />It is kind of a stitch to see a younger Sherman (i.e. Scatman) Carothers acting as a native. But probably not worth the overall time-investment.\n",
      "Top k tokens: [' <', ' ', ' I', ' It', '\\n', ' \"', ' This', ' Yes', ' The', '<', ' No', ' If', '\\n ', ' A', ' \\n', '\\n  ', ' yes', ' Not', ' it', '</', ' T', ' You', ' (', ' Good', ' Gordon', ' this', ' >', ' http', ' </', ' As', ' That', ' Y', ' In', ' Bad', ' *', ' \"<', '<|endoftext|>', ' S', ' Very', ' There', ' My', ' H', '\\n   ', ' N', 'T', ' We', ' He', ' At', ' F', ' [[']\n",
      "Could not predict sentiment for review: How is bear´s paw, elephant´s trunk or monkey´s brain for dinner? Let Tsui Hark tell you in this wonderful and lighthearted comedy about the art of cooking the traditional(?) Chinese way.<br /><br />This movie shares the common structure of an American sports movie, but instead of focusing on baseball it centers around cooking which makes it all the more interesting. I even think Leslie Cheung´s character look a lot like Charlie Sheen in Major League...<br /><br />This movie also contains a bit of Zhao Wen Zhao vs Xiong Xin Xin fighting (love seeing more of that after The Blade) and a quite funny in-joke concerning a Leon Lai pop song...<br /><br />Perhaps not the ideal movie for the strict vegetarian though.\n",
      "Top k tokens: [' <', '\\n', ' ', '<', ' \\n', ' I', ' Yes', '\\n ', ' The', '\\n  ', '<|endoftext|>', ' This', ' \"', '</', ' It', ' No', ' If', ' </', ' T', ' (', ' Y', ' A', ' You', ' How', '\\n\\n', ' [', ' http', ' yes', ' What', '  ', ' Please', 'T', ' *', 'http', '[', ' https', ' My', ' Not', ' Good', ' **', ' H', ' Would', ' \"<', 'I', ' Do', 'This', 'Yes', 'The', ' Very', '\\n   ']\n"
     ]
    },
    {
     "name": "stderr",
     "output_type": "stream",
     "text": [
      "Processing:  39%|███▉      | 196/500 [00:04<00:06, 46.73it/s]"
     ]
    },
    {
     "name": "stdout",
     "output_type": "stream",
     "text": [
      "Could not predict sentiment for review: When I first saw this film around 6 months ago, I considered it interesting, but little more. But it stuck with me. That interest grew and grew, and I wondered whether my initial boredom and response had more to do with the actual VHS quality rather than the film itself. I purchased the Criterion DVD box set, and it turns out that I was right the second time. Alexander Nevsky is a great film. It is rousing, and I'm sure it succeeded in its main aim: propaganda against the Germans.<br /><br />That is the most common criticism against this film, and against Eisenstein, that it is merely propagandist and nothing else. It's untrue. He is an amazing film artist, one of the most important whoever lived. By now, the world is far enough beyond Joseph Stalin to be able to watch Eisenstein's films as art.\n",
      "Top k tokens: [' ', ' <', ' I', '\\n', ' The', ' Yes', ' If', ' It', ' This', ' No', ' When', ' \\n', '\\n ', '<', ' You', ' \"', ' A', ' yes', ' Alexander', ' In', '\\n  ', ' What', ' My', ' </', ' There', ' [', ' Not', '</', ' V', '<|endoftext|>', ' An', ' Do', ' Very', ' Y', ' (', ' Good', ' How', ' if', ' True', ' Is', ' For', ' Why', ' We', ' That', ' As', ' One', ' At', ' To', ' By', ' *']\n",
      "Could not predict sentiment for review: Like \"The Blair Witch Project\" before it, \"Hatchet\" has garnered its own fair share of publicity from the bottom-on-up (as an avid reader of Fangoria Magazine, the full-page ads are hard to miss); even after its middling theatrical run, the film is bound to subsist solely on the hype surrounding it, and will probably turn into a cult item at some point. With a MySpace URL and a mighty (if puzzlingly subjective) promise of preserving so-called \"old school American horror,\" \"Hatchet\" will draw a lot of curiosity seekers with its DVD release (where that claim is emblazoned on the disc itself). Perhaps it was the large-print blurb from Ain't It Cool News on the ads that caused me to approach the film with some trepidation (it seems that Harry Knowles and his minions will approve of any film for VIP passes and free food), but \"Hatchet\" makes me question what writer-director Adam Green's idea of \"old school American horror\" really is: based on the evidence here, it means the insipid, late-'80s rip-offs of \"Friday the 13th\" and \"Deliverance.\" The characters are obnoxious stereotypes (black Chris Tucker type, Survivalist Chick, Topless Bimbos, Requisite Old Couple, Asian Tour Guide) whose interactions are marred by painful, trying-to-be-hip dialogues and mostly obvious stabs at humor (not quite as bad as \"Cabin Fever,\" but still); the script has too much padding (the \"rustling bush\" scene, for example), and \"Hatchet\" winds up as typical as any postmodern slasher of the last decade, with its only distinguishing trait an expertly-calculated hype machine. I'll give it some faint praise for the gore--if you can wade through the padding in between kills, the red vino is definitely a thing of wonder, and the only real reason to watch this.\n",
      "Top k tokens: [' ', '\\n', ' \\n', ' Yes', ' I', ' \"', ' The', ' Like', ' If', ' This', ' It', ' No', '\\n ', ' Not', ' A', ' You', ' [', ' H', ' *', ' As', ' <', '\\n  ', ' In', ' Y', ' At', ' Only', ' **', ' For', ' Just', ' Absolutely', ' Maybe', ' My', ' There', '  ', ' yes', ' Please', ' We', ' _', ' `', ' What', ' Based', ' Good', ' By', ' Probably', ' Well', ' Very', ' None', ' N', '\\n   ', ' Don']\n",
      "Could not predict sentiment for review: This was a very funny, fast paced movie. I watched it more than once and am keeping my rental around to show others. I'd just like to take this opportunity to ask anyone in the know, how do HK producers choose their subtitle translators? I'm most curious. Please direct me. <br /><br />Again, to return to review, it is a really rollicking film with plenty of content, subtleties reminiscent of the classics, though full of slapstick. Reminiscent, say, of the Mexican comedies of Cantinflas.<br /><br />The film does not disappoint fans of the director who have noticed that he chooses distinctly Chinese themes, trying to get to characteristics rarely explored. The director's entire collection is way of getting a look inside the culture in a disarming way.<br /><br />And I don't see how his funny girl in Chinese Feast could be topped.\n",
      "Top k tokens: [' <', '\\n', ' ', '<', ' I', ' \\n', ' This', ' The', ' Yes', '\\n ', '<|endoftext|>', ' It', ' If', ' No', ' Please', ' You', '\\n  ', ' \"', ' </', ' H', '</', ' A', ' http', ' Thank', ' [', ' (', '\\n\\n', ' What', ' Y', ' yes', ' My', ' Good', ' >', ' Not', ' this', ' https', 'This', ' There', ' Thanks', ' Very', ' How', ' *', ' In', 'I', ' To', ' That', '  ', ' T', 'http', ' Would']\n",
      "Could not predict sentiment for review: Imagine if you will an alternative universe where someone has made SEVEN where instead of a talented cast and crew they've cast a politically conscious environmentalist and a stand up comedian as the leads . If your imagination can't stretch that far just watch THE GLIMMER MAN as it's the next worse thing <br /><br />!!!! MILD SPOILERS !!!!<br /><br />Jack Cole is a cop with a hidden past and it's very ironic that he's played by Steven Seagal since he's also someone witrh a hidden past , but don't tell anyone because it's top secret . Perhaps the biggest secret is how someone like Seagal became a movie star in the first place since THE GLIMMER MAN continues in the vein of all of Seagal's other movies in that it's utter , utter crap . Look at the way he's introduced as his partner walks into his office \" Yoi love beads man . In you're in the wrong office \" Steven replies with something that is side splittingly witty , or he would if anyone was able to understand a bloody word he said because for much of the movie he just mumbles away . In fact the only time I could make out his dialogue was the scene at the school where he bursts in on the gunman holding the class hostage <br /><br />\" Don't make me kill you \" <br /><br />Is this what a cop would say to a suicidal gunman ? I'm just thinking that in another movie where Steven isn't the hero ( ie A good movie ) the cop would say something along the lines of \" Don't kill me , I've got a wife and a couple of kids waiting at home \" . So anyway suicidal gunman goes to blow his head off but Steven saves his life by hurtling them both through two sets of windows . It goes without saying that you shouldn't try this at home<br /><br />As the story progresses Steven ( I've given up on calling him Jack though credit to the screen writer for giving Steven a sensible name ) becomes involved in a case a plagiarism where someone has been stealing bits out of other superior movies featuring serial killers . As Steven finds more victims you can see him thinking \" What was that movie that starred Morgan Freeman as a cop ? \" as he inspects the bodies , oh and the action keeps switching back to the hero's domestic life just so we know that this guy's good as a family man , this guy's very good as a family man such a pity he's so bad as a movie star\n",
      "Top k tokens: [' <', ' ', ' I', ' The', ' Yes', '\\n', ' It', ' NO', ' If', ' A', ' This', ' No', ' \"', ' THE', ' !', ' You', ' Y', ' Please', ' H', ' NOT', ' M', ' T', ' Good', ' (', ' ***', ' yes', ' *', ' ?', ' Not', ' \\n', ' What', '!!!!', ' http', ' </', ' **', '<', 'I', ' L', ' J', 'M', ' Only', ' Very', ' F', ' S', ' >', ' Jack', 'The', ' TH', ' Thank', ' [']\n"
     ]
    },
    {
     "name": "stderr",
     "output_type": "stream",
     "text": [
      "Processing:  45%|████▌     | 226/500 [00:05<00:05, 46.80it/s]"
     ]
    },
    {
     "name": "stdout",
     "output_type": "stream",
     "text": [
      "Could not predict sentiment for review: I got this movie out a week after the death of Ichikawa Kon - I suppose if there is one way to mark the passing of a great director, its to raise a glass of wine to him while watching one of his greatest movies. Ichikawa had one of the finest careers in Japanese film, but as he never had a distinctive style or theme he often seems to be overlooked compared to his near contemporaries such as Ozu and Kurosawa (he was a little younger than them, but not by much). He is one of those directors who defies auteur theories - its likely that his wife (who wrote the screenplay for this and many other of his movies) was as much responsible for the quality of the movies as he was. But at his best, he was as good as any Japanese film maker at the time. In particular, he had great technical skills, allowing him to tell complex stories in an accessible manner. But in terms of theme, this movie could hardly be simpler - war is hell. No really, its seriously hell.<br /><br />Fire on the Plain doesn't follow the normal war genre rules. There is no real beginning - we start as the wretched Tamura, who is a regular private (although it is implied he is more thoughtful and educated than most of the others - at one stage it is shown he understands English, but he clams up when the others ask him how he knows it) is ordered to hospital, as his unit is already in an appalling state. The soldiers are defeated and starving to death. They are no longer an army, just a rag bag group of refugees - hunted by the locals, and pretty much ignored by the Americans, who have bigger fish to fry. Hunger and despair is driving the soldiers to the edge and beyond of madness.<br /><br />In typical Ichikawa style, its not all just grim - its oddly funny in parts (a very black humour of course).<br /><br />The high points of this movie to me are the outstanding performances from the leads and the vivid photography. The characters, in all their humanity, but also their complete loss of humanity, are all too believable. This is that rare film - one which will refuse to erase itself from your head, even if you want to forget it.\n",
      "Top k tokens: [' I', ' <', ' ', '\\n', ' Yes', ' It', ' The', ' This', '<', ' \\n', ' No', ' If', '\\n  ', ' yes', '\\n ', ' You', ' Y', ' A', ' \"', ' Its', '<|endoftext|>', ' Not', ' Please', ' In', ' it', ' this', ' As', '\\n\\n', 'I', ' My', ' Im', '</', ' Good', ' *', ' None', ' There', ' (', ' H', ' no', ' if', ' NO', ' -', ' http', ' One', ' Only', ' Thank', ' N', ' An', ' Very', ' Ich']\n",
      "Could not predict sentiment for review: Without saying how it ended, it is sufficient to say that the whole thing degenerates from about five minutes before the end. If the standard had been maintained throughout, the movie would be worth a seven.<br /><br />One wonders in a way why a woman was added to the cast. (Well - not really!) The premise is a good one The situation the victims find themselves in is pretty terrifying and it's rather well done, but you get the impression the makers of the film lost interest towards the end, or as a previous contributor said, they changed writers and handed over to someone else.\n",
      "Top k tokens: [' ', ' <', ' I', ' The', '\\n', ' No', ' Yes', ' It', ' If', ' This', ' Without', ' \\n', ' A', ' You', ' In', ' \"', '<', ' Not', ' There', ' With', '\\n ', ' As', ' That', ' None', ' We', ' Y', ' One', ' Nothing', ' For', ' </', ' At', ' My', ' *', ' Very', '\\n  ', ' (', ' Of', ' What', ' Un', ' To', ' By', ' Good', ' yes', ' Although', ' Probably', ' Well', ' From', '</', ' Only', ' After']\n",
      "Could not predict sentiment for review: An Italian/American co-production co-starring Linda Blair and David 'The Hoff' Hasselhoff: how could any fan of trashy horror resist such a treat?<br /><br />Well, based on the uneventful, extremely tedious, and utterly nonsensical first forty minutes or so, I would have said 'very easily'; thankfully, however, things do eventually get a tad more entertaining with the introduction of several inventive death scenes, and for those lucky enough to find an uncut copy, a smattering of nudity too (unfortunately, my copy was optically edited to remove such offensive material).<br /><br />The Hoff stars as Gary, a photographer who accompanies his beautiful girlfriend Leslie (Leslie Cumming) to a run-down hotel on a seemingly deserted island in order to take pictures for her latest project, a book about witches; whilst there, frustrated Gary also hopes to try and cure a bad case of blue balls by relieving Leslie of her virginity.<br /><br />His plans for nookie are scuppered, however, by the unexpected arrival of property developers Freddie and Rose Brooks (Robert Champagne and Annie Ross), their pregnant daughter Jane (Blair), son Tommy (Michael Manchester), pretty nymphomaniac architect Linda Sullivan (Catherine Hickland), and estate agent Jerry (Rick Farnsworth), who have come to inspect the island's hotel.<br /><br />After explaining their unexpected presence on the island, Gary and Leslie are welcomed by the property's new owners, and when a violent storm suddenly picks up, making it perilous to return to the mainland, everyone agrees to spend the night in the old building. Unfortunately, unbeknownst to the hotel's new guests, the place is also home to the spirit of an evil witch (Hildegard Knef), who requires human sacrifices in order to bring herself back to life. One by one, victims are pulled into a swirling red vortex (which is guaranteed to provide unintentional laughs), before meeting a terrible fate.<br /><br />None of this makes much sense, and the acting is atrocious (Manchester as Tommy is particularly bad, whilst Hasselhoff proves to be one of the better performers, which speaks volumes about the others), but those viewers who make it past the dreary first half are rewarded with some pretty decent moments of gore: Rose has her lips sewn together, before being roasted alive in a fireplace; Jerry is crucified and burnt alive; Linda is tortured by hags and impaled on a swordfish(!!); Freddie's veins pulsate and erupt in geysers of blood; and Gary gets stabbed in the back.<br /><br />Oh, and Leslie is raped by a guy with no lips and Blair gets possessed (again).\n",
      "Top k tokens: [' <', '<', ' I', ' The', ' If', ' ', ' if', ' It', ' A', ' An', ' This', ' How', '</', ' the', ' What', ' it', ' this', ' a', '\\n', ' yes', ' Yes', ' In', ' No', ' </', ' Well', ' what', ' an', ' You', ' well', ' how', ' Is', ' Does', ' Why', ' \"', ' Very', '\\n  ', ' Not', ' http', ' is', ' My', ' very', ' Thank', ' As', ' (', ' Do', ' not', ' Good', ' So', ' For', ' can']\n"
     ]
    },
    {
     "name": "stderr",
     "output_type": "stream",
     "text": [
      "Processing:  52%|█████▏    | 261/500 [00:05<00:05, 46.30it/s]"
     ]
    },
    {
     "name": "stdout",
     "output_type": "stream",
     "text": [
      "Could not predict sentiment for review: This is an OK adaptation of the breath taking book of Dan Brown. I can't say it is novel or very good but they made a movie that you can enjoy. Given the excellent story, the result could have been better though. The movie is pretty long but at the end I was feeling like some things were missing. Sound effects and sound tracks were very good. Acting was well done but the character development phase was very weak. For people who didn't read the book, things may look happening too quickly. From my point of view, instead of trying to put as much as stuff from the book, they could have tried to do the important scenes more proper. What makes the book very good was all the puzzle like story combined with the excellent portrait of Vatican. You see neither of it in the movie. Too much rush and using the time not in a good way, these are main problems of the movie. So, it is worth watching but could have been done better.\n",
      "Top k tokens: ['\\n', ' I', ' ', ' \\n', ' Yes', ' This', ' The', ' It', ' No', ' If', '\\n ', ' [', ' You', '\\n\\n', ' A', ' Not', ' My', ' \"', ' In', '  \\n', ' There', '  ', ' Well', ' As', ' Please', '\\n  ', ' Very', ' Y', ' Overall', ' Good', ' For', ' **', ' \\n\\n', ' Only', ' We', ' yes', '<|endoftext|>', ' <', ' *', ' Based', ' Just', ' None', ' What', ' So', ' Thank', ' NO', '\\n\\n\\n', ' One', ' Maybe', ' this']\n"
     ]
    },
    {
     "name": "stderr",
     "output_type": "stream",
     "text": [
      "Processing:  55%|█████▌    | 276/500 [00:06<00:04, 46.35it/s]"
     ]
    },
    {
     "name": "stdout",
     "output_type": "stream",
     "text": [
      "Could not predict sentiment for review: algernon4's comment that Ms Paget's \"ultra lewd dance in (this film) is the most erotic in the history of films\" is certainly one doozy of an exaggeration. It isn't even Debra Paget's most erotic dance. Her near nude gyrations in Fritz Lang's \"The Indian Tomb\" make this number look decidedly tame. As for being the most erotic in the history of dance. Well! Where do I start? Salma Hayek's performance as Santanico Pandemonium in \"From Dusk to Dawn\" (1996); Jamie Lee Curtis in \"True Lies\" (1994); Jessica Alba in \"Sin City\" (2005); Rose McGowan in \"Terror Planet\" (2007); Sheila Kelley in \"Dancing at the Blue Iguana\" (2000), blah, blah, blah.<br /><br />Don't get me wrong. I love the sequence and have included it in my \"Cheesecake Dance\" series on Youtube. I just think that making a claim like \"most erotic in the history of film\" is really going out on a very fragile limb.\n",
      "Top k tokens: [' <', ' ', '\\n', ' I', ' alg', ' The', ' Alg', ' \"', ' Yes', '<', ' yes', ' No', ' It', ' http', ' If', ' This', ' \\n', ' no', ' Al', ' it', ' Ms', ' the', ' Y', ' A', ' Not', ' M', ' Sal', ' Mr', ' if', ' this', ' y', ' You', ' (', ' m', ' An', ' What', '\\n  ', ' [', ' My', '</', ' -', ' Don', ' In', ' a', ' Most', ' None', ' As', ' l', ' There', ' She']\n",
      "Could not predict sentiment for review: The most vivid portrait of small-town oddity I've seen in a long time -and I'm not just talking about Australian films. This piece of work seems to have been made \"under the radar\" and really, it's an entirely fascinating piece of work, that has a worldliness mostly unseen in recent Aust. film making.<br /><br />At times it is rather slow and strange - it seems to meander hither and thither not really sure if it's a thriller or a 'head-movie'. But the stunning aspect of the film by Alex Frayne is its iron fisted, ruthless direction. It never wavers, it is highly controlled, precise and absolutely self-assured. The cinematography is some of the most artful, beautiful and lyrical I've seen. The sound is all psychological, the music builds the tension.<br /><br />By the third act, the story is ramped up and episodes collide and converge - don't attempt to piece together the puzzle of the last 20 minutes, it's a bit of an impost - but by that time the film has you a bit of a trance, a sort of hypnosis, and you've been sold a riddle - that has no real answer.\n",
      "Top k tokens: [' <', '\\n', '<', ' ', ' The', ' I', ' \\n', ' Yes', ' \"', ' This', ' It', ' If', ' No', '\\n  ', ' A', 'The', '\\n ', '</', ' You', '<|endoftext|>', ' yes', ' </', ' -', ' (', ' There', ' In', 'I', 'This', ' By', ' Not', ' What', ' http', '\\n\\n', ' it', ' That', ' Good', ' As', ' F', 'Yes', ' the', ' My', ' by', 'It', ' An', 'A', ' if', ' Very', ' *', ' this', '  ']\n",
      "Could not predict sentiment for review: This Columbo episode is one of the better and perhaps one of my personal favorites. The cast includes Rosemary's Baby John Cassavetes as the maestro, his wife played by Blythe Danner (Gwyneth Paltrow's mom) and his mother-in-law played by Myrna Loy (one of America's greatest leading actresses in film of our time). Anyway I disagree with anybody who criticizes against this film. This episode is one of my favorites because you have an excellent cast who do a superb job in performing. I love watching Columbo with his beloved dog who he never names in the series. This time, the episode focuses in on classical music at the Hollywood Bowl, one of L.A.'s attractions. Of course, Columbo becomes as interested in classical music as he does anything else involving a crime.\n",
      "Top k tokens: [' This', ' \\n', ' I', '\\n', ' ', ' Yes', ' The', ' If', ' It', ' No', ' You', ' In', ' A', ' My', ' [', ' Col', ' As', ' \"', ' Not', ' Only', ' There', ' Very', ' this', ' Please', '\\n ', ' What', '\\n\\n', ' \\n\\n', ' **', '  ', ' One', ' <', ' Thank', ' None', ' *', ' We', ' Well', ' yes', '\\n  ', ' Absolutely', ' For', ' Good', '  \\n', ' At', '<|endoftext|>', ' Your', ' Y', ' Although', ' L', ' So']\n",
      "Could not predict sentiment for review: Okay,I'm a history buff,and okay,I'm a action film junkie,so of course,this film is on my top ten of all time.I really love the action scenes,and the unique weaponry of the period.I sort of have doubts about fighting two-handed sword from horse-back,and the Raisuli sword seems more katana-like than scimitar-like,...oh well,I've never fought from horse back,either.<br /><br />I love the attempts at philosophic proverbs,too.The typical desert tribesman probably couldn't read the Koran,so they'd take his word for it.Several writers have criticized Connery's brogue;well,on vacation as a youth,I met a family of South Africans in our west,Dinosaur National Monument,and although they spoke Africaans between themselves(yeah,second generation Germans can hear the difference),they spoke English with a Scottish brogue.Seems that who teaches you affects your pronunciation.Scottish Missionary?\n",
      "Top k tokens: ['\\n', ' I', ' ', ' <', ' \\n', ' The', ' Yes', '<', ' This', '\\n ', 'I', ' If', ' No', ' It', 'The', 'This', ' \"', ' Okay', '\\n  ', ' A', ' Not', '...', ' You', 'No', 'Yes', ' </', 'If', '<|endoftext|>', 'Okay', 'It', '</', ' My', ' In', 'A', ' yes', 'Not', ' Good', 'http', ' Ok', '\\n\\n', ' (', ' [', 'You', '  ', ' *', ' Bad', ' So', ' ...', ' Well', 'S']\n"
     ]
    },
    {
     "name": "stderr",
     "output_type": "stream",
     "text": [
      "Processing:  57%|█████▋    | 286/500 [00:06<00:04, 45.10it/s]"
     ]
    },
    {
     "name": "stdout",
     "output_type": "stream",
     "text": [
      "Could not predict sentiment for review: If it wasn't meant to be a comedy, the filmmakers sure goofed. If they intended for it to be a comedy, they hit the mark. Our critic says Homegrown is a wonderful film filled with family values and community spirit, recommends it for all audiences, and says that he really liked Jamie Lee Curtis's performance. It deserves a theatrical re-release.\n",
      "Top k tokens: [' If', ' ', ' \\n', ' Yes', '\\n', ' Home', ' I', ' It', ' No', ' This', ' The', ' [', ' We', ' Absolutely', ' Not', ' A', ' You', '\\n ', ' if', ' Y', ' \"', ' Only', ' *', ' My', ' None', '<|endoftext|>', ' As', ' Maybe', ' There', ' <', ' **', '  ', ' For', ' House', ' In', '\\n\\n', ' \\n\\n', ' H', '\\n  ', '  \\n', ' Please', ' yes', ' Thank', ' What', ' Of', 'Home', ' \\n   ', ' Would', ' True', '\\n   ']\n",
      "Could not predict sentiment for review: If you really loved GWTW, you will find quite disappointing the story. Those who may think this is just about a romantic story and the south, will be probably satisfied with this decent TV production (altought I consider an important miscast the choice for Scarlett). But, let me say that considering the novel, nothing good could came out of this.<br /><br />I've read GWTW more than 20 times and I can really appreciate the adaptation Mrs. Mitchell did for the film. It took me some time to understand how good the ending was: Scarlett knew for sure she was going to recover Rhett, since she always got what she wanted. But there was no kiss in the end.<br /><br />Then Alexandra Ripley came to \"fix\" this by showing us exactly how perfect and mighty Scarlett could be, and of course, describing in detail how exactly she gets Rhett back even when she had an important affair with someone else (nothing could have been further from Mrs. Mitchell mind, I am sure).<br /><br />The story between these points is in my opinion just a long and boring ride made up to tie ends, showing off costumes and scenarios just to give us an obvious and totally unnecessary ending.<br /><br />If Margaret Mitchell could came to live again, she would die one more time at the very moment she'd find out what Scarlett became after GWTW.<br /><br />Sure it's not fair to compare this to the original but this is not GWTW fault. Isn't it? Is it any good if I don't compare it to the original? Maybe. Sorry to say I don't really care.<br /><br />I would expect little more compromise to continue someone else's (suberb) work, otherwise don't even try.\n",
      "Top k tokens: [' I', ' <', '<', ' If', ' ', '\\n', ' It', ' Yes', ' The', ' This', ' No', ' \"', ' \\n', ' if', '</', ' Good', ' You', ' A', ' yes', 'If', '\\n  ', '\\n ', 'I', ' My', ' Great', '<|endoftext|>', ' Not', ' </', ' As', ' Please', 'No', ' In', 'The', ' Y', ' NO', 'This', 'http', ' What', ' it', ' Nothing', ' So', ' Well', ' http', ' (', ' Very', ' There', ' That', ' Only', ' Thank', 'It']\n",
      "Could not predict sentiment for review: Edge Vs. Michaels-Boring in general (loved the sweet chin music into the chair) 4/10 Taker Vs. Heidenreich-One of the worst matches I've seen, predictable as hell 1/10 Tripe Threat WWE match-Why do I watch them, nobody ever wins a championship at the rumble, its not the main event. Liked it when Show drove JBL through the wall. 3/10 World Heavyweight Championship-Pretty OK match, kind of more a beat-down by Tripe H than a match, but I was happy to see it after watching crap. 5/10 Royal Rumble-Good Rumble,Liked the brand showdown,the Hassan thing, and the end. 7/10 Overall still crap. Why does anyone watch the rumble???\n",
      "Top k tokens: [' ', '\\n', ' \\n', ' I', ' The', ' Yes', '\\n ', ' If', ' It', ' This', '\\n\\n', ' No', ' \"', ' [', '\\n  ', ' A', ' You', ' Edge', '  ', '  \\n', ' \\n\\n', ' R', '<|endoftext|>', ' **', ' Top', ' Not', ' M', ' Bad', ' (', ' https', ' T', ' http', ' Good', ' What', ' *', ' My', ' L', ' C', ' N', ' Y', ' yes', ' <', ' F', ' Only', '\\n\\n\\n', ' Overall', ' Rating', ' None', ' �', ' Why']\n"
     ]
    },
    {
     "name": "stderr",
     "output_type": "stream",
     "text": [
      "Processing:  63%|██████▎   | 316/500 [00:07<00:04, 43.62it/s]"
     ]
    },
    {
     "name": "stdout",
     "output_type": "stream",
     "text": [
      "Could not predict sentiment for review: Oliver Stone, always ready to make politically-themed movies, makes another one here. \"Talk Radio\" is loosely based on the career of Alan Berg, a radio talk show host in Denver who was murdered by white supremacists. In this case, the character is Barry Champlain (Eric Bogosian), an outspoken talk show host in Dallas who loves nothing more than to irk the people who call in. As it is, most of the people who call in are a bunch of pigheaded racists. And things may be heating up more than anyone realizes.<br /><br />Bogosian's performance brings a light comical tone to an otherwise serious movie. I really liked the scene where he jabs at a redneck who calls in. Granted, I wouldn't call this Oliver Stone's greatest movie ever, but it's a good reference in an era when media gets more and more concentrated. Good performances by Ellen Greene and Alec Baldwin also help.\n",
      "Top k tokens: [' ', '\\n', ' <', ' \"', ' I', ' The', ' Yes', ' This', ' If', ' \\n', '\\n ', ' It', ' No', ' You', '<', '\\n  ', '<|endoftext|>', ' yes', ' [', '</', ' **', ' A', ' </', ' Please', ' There', ' Good', ' (', ' In', ' http', ' O', ' Oliver', '  ', ' We', ' __________________', ' *', ' My', ' Not', ' What', ' None', ' \"<', ' Do', '\\n\\n', ' Watch', ' Only', ' Y', ' T', ' if', ' Here', ' As', ' For']\n",
      "Could not predict sentiment for review: National Lampoon's Christmas Vacation 2: Cousin Eddie's Island Adventure (2003) Randy Quaid, Miriam Flynn, Dana Barron, Jake Thomas, Sung Hi Lee, Eric Idle, Fred Willard, Ed Asner, D: Nick Marck. Embarrassing direct-to-video flop has oafish Cousin Eddie and family on an expenses-paid vacation to the South Pacific by his boss, hoping the dunce won't sue his company after being bitten by a smarter lab monkey! Idiotic spin off can't measure up to any of the Vacation films (even European Vacation!), with a question of whether or not the filmmakers thought the script was actually funny. Not even Quaid, Willard, or Asner can make it remotely watchable. 83 min., Not rated. *\n",
      "Top k tokens: [' ', ' National', '\\n', ' The', ' *', ' Yes', ' No', ' **', ' This', ' C', ' \\n', ' I', ' It', '\\n ', ' If', ' \"', ' [', ' Not', ' N', ' A', ' ***', ' R', ' (', ' Only', ' American', ' S', ' My', ' D', ' You', ' True', ' NO', ' In', ' J', ' V', ' What', '  ', ' <', ' U', ' None', ' F', ' __________________', ' Is', '\\n  ', ' There', ' Y', ' Good', ' For', ' Bad', ' Re', ' Please']\n"
     ]
    },
    {
     "name": "stderr",
     "output_type": "stream",
     "text": [
      "Processing:  69%|██████▉   | 346/500 [00:07<00:03, 46.63it/s]"
     ]
    },
    {
     "name": "stdout",
     "output_type": "stream",
     "text": [
      "Could not predict sentiment for review: Well, \"built\" Doris Day (as Ethel S. \"Dynamite\" Jackson) is mistaken for thespian Ethel Barrymore, and falls in love with dancer Ray Bolger (as S. \"Sam\" Winthrop Putnam). Older Frenchman Claude Dauphin (as Philippe Fouquet) also digs Doris. Honestly",
      " What were they thinking? - This wildly inappropriate musical does feature Ms. Day prettily singing the standard \"April in Paris\", and others. Certainly, there nothing as good as her Columbia recordings from the time; and, nothing approaches Day's stunning and forthcoming \"Secret Love\". Although the material does not serve him well, it's nice to see Mr. Bolger performing. Some of the musical numbers are obnoxious.<br /><br />**** April in Paris (12/24/52) David Butler ~ Doris Day, Ray Bolger, Claude Dauphin\n",
      "Top k tokens: [' Yes', ' I', ' ', ' This', ' **', ' No', ' \"', ' The', ' <', ' It', ' -', '\\n', ' *', ' If', ' Well', ' \\n', ' Not', ' A', ' (', ' April', ' You', ' Very', ' __________________', ' There', ' [[', ' In', ' What', ' Good', ' yes', '<', ' Please', ' D', ' As', ' We', ' ***', ' Thank', ' NO', ' For', ' Y', ' Only', ' So', ' Mr', ' [', ' Here', ' http', ' Some', ' That', '\\n ', ' My', ' Unfortunately']\n"
     ]
    },
    {
     "name": "stderr",
     "output_type": "stream",
     "text": [
      "Processing:  71%|███████   | 356/500 [00:07<00:03, 45.27it/s]"
     ]
    },
    {
     "name": "stdout",
     "output_type": "stream",
     "text": [
      "Could not predict sentiment for review: What are Forest Whitaker and Clifton Collins Jr. doing in this? Light It Up is a ridiculously melodramatic piece on problems in low income area schools. While the topic is one that needs to be addressed, the film uses every cliche in the genre and comes off as a textbook popcorn flick. The characters are cutouts from the inner city version of The Breakfast Club or even The Faculty. Watch this with your children when they turn 13 or 14. With them, it could be an outlet for a lesson on current social problems. For anyone older, it will be nothing more than something to watch and spit on at 4 in the morning, as I did recently on Bravo. Matter of fact, what was this doing on Bravo?\n",
      "Top k tokens: ['\\n', ' ', ' I', ' \\n', ' This', ' The', ' Yes', ' It', ' If', ' What', ' No', ' You', ' [', ' A', ' Not', ' There', ' In', ' Light', ' Dark', '  ', ' Y', ' We', '\\n ', '  \\n', ' My', ' \"', ' F', ' For', ' Only', ' <', ' Good', ' As', '\\n\\n', ' Forest', ' How', ' Is', ' Very', ' Please', ' Based', ' At', ' None', ' Nothing', '\\n  ', ' One', ' Just', ' Why', ' They', ' True', ' yes', ' While']\n"
     ]
    },
    {
     "name": "stderr",
     "output_type": "stream",
     "text": [
      "Processing:  74%|███████▍  | 371/500 [00:08<00:02, 45.64it/s]"
     ]
    },
    {
     "name": "stdout",
     "output_type": "stream",
     "text": [
      "Could not predict sentiment for review: 'Nuff said. An undercover cop from the state capital is sent to a small county where moonshine running is rampant. He ends up getting run off the road by some local hicks who have no idea he's an undercover cop (so they just drive away as blissfully dopey as ever). He is soon being taken care of by a woman and her three daughters who all wear low-cut tops and short shorts (gotta luv the '70s). He falls in love with one of the girls but in the meantime he still has to find out who's making all the moonshine and driving it to all the local bars and restaurants. He also has to contend with a fat sheriff and his incompetent deputy who think he's the moonshiner 'cause he's new in town.<br /><br />Life in small town America, 70s style. YEE HAAAAAAAAAAA.\n",
      "Top k tokens: [\" '\", ' ', ' <', ' I', ' \"', '\\n', ' Yes', ' It', ' No', ' The', ' This', ' If', ' \\n', ' A', \" ''\", ' N', ' Y', ' Not', ' An', ' You', '\\n ', ' yes', ' **', '<', ' (', ' [', '\\n  ', ' *', ' it', ' My', ' NO', ' Good', ' </', ' What', ' F', ' Very', ' Bad', \" '<\", ' -', ' There', ' Only', '  ', ' [[', ' H', ' In', ' `', ' $', ' if', ' R', ' no']\n",
      "Could not predict sentiment for review: This is perhaps the most ridiculous crap I have ever watched. Three unconnected stories about completely stupid and random things are occasionally interrupted by a bus and a boring monologue about relationships by a stupid man. Christ knows why so many people got involved in this. Highlights: Green fridge man reading Jean-Paul Sartre, the slob mans dinner guest and her horse-manure hair products, a RIDICULOUSLY unreasonable woman in the third short, who suspected a man of foul play just for taking an interest in her generic activities, Blowers.<br /><br />I need to use up a few more lines apparently, so may as well mention some more stupid things about the film. The first film involves a man driving a talking car around and obeying its unreasonable demands for absolutely no apparent reason. The only way you would watch this film is if you were blind and had other debilitating defects in your personality and brain. It is kind of funny in an ironic way, but also extremely wearying, like being forced to chew for a very long time on a stained rug.\n",
      "Top k tokens: [' I', ' This', ' <', ' Yes', ' It', ' ', ' The', '\\n', ' No', ' If', ' \\n', ' You', ' A', ' \"', ' Not', '\\n ', ' Very', ' There', ' Y', ' this', ' My', ' In', ' Good', ' *', ' As', ' Well', '<', ' **', '\\n  ', ' That', ' At', ' yes', ' We', ' None', ' One', ' Only', ' </', ' Probably', ' it', ' So', ' Bad', ' For', '</', ' [', ' Yeah', ' Please', ' Absolutely', ' Some', 'This', ' Nothing']\n",
      "Could not predict sentiment for review: Don't pick this one. ****Spoiler Alert***** The plot of this aggravatingly bad movie is four friends are talked into taking the shuttle from the airport by a very zealous driver. On the shuttle with them is a rather milquetoast looking business type. <br /><br />Shortly into their trip the driver of the shuttle takes an off-ramp and some lunatic driver tries to run them off the road. The end result is they get a flat tire. The driver gets one of the people on the shuttle to help change the tire and the jack slips and the guys fingers are crushed between the tire and the shuttle. It's at this point that the driver reveals himself to be a kidnapper and he has taken all the people hostage. <br /><br />Now the movie gets extremely slow and tedious, as the characters do one lame thing after another. One of the men is killed trying to escape -- even that lacks any suspense. Finally it is revealed that the milquetoast business guy is in cahoots with the driver when milquetoast guy kills the other male friend by slitting his throat. <br /><br />There are a couple of attempts to escape by the women. Milquetoast is beaten over the head with a tire iron -- yet he survives. <br /><br />The driver is also beaten and somehow survived a head on collision with a fence at high speed while kneeling next to the steering wheel. Somehow he didn't go through the window or even get seriously injured with a collision with windshield. Yet the woman driving the shuttle is knocked unconscious -- yet she had a steering wheel to protect her and he had nothing between him and the windshield.<br /><br />He is eventually able to subdue the women and get them to an underground garage that is a front for human trafficking. One of the women is killed. The other one stabs the driver in the leg with a good sized piece of broken mirror and shoots/grazes him in the head, yet he is able (in what should be a severely weakened state -- severe blood loss, two head injuries and a large leg gash) to drag her out of the shuttle, drag her to a large crate, throw her in and get it locked, all the while with her fiercely fighting him.<br /><br />Now some people admire the message of the movie about human trafficking and how it is going on today. This is a serious problem. But, making an extremely boring movie about the topic does not entitle it to a higher rating.\n",
      "Top k tokens: [' **', '\\n', ' ', ' <', ' *', ' \\n', '<', ' ***', ' Yes', ' The', ' I', '\\n ', ' \"', '****', ' No', ' This', ' Don', '\\n  ', '<|endoftext|>', ' It', '**', ' __________________', '</', '\\n\\n', ' You', ' [', ' A', '  ', ' If', ' Not', ' Good', ' Y', ' yes', ' </', 'The', '***', ' >', ' http', '*', ' Sp', ' ______', ' (', 'No', ' Please', 'This', 'http', ' My', '********', ' D', ' There']\n"
     ]
    },
    {
     "name": "stderr",
     "output_type": "stream",
     "text": [
      "Processing:  76%|███████▌  | 381/500 [00:08<00:02, 45.12it/s]"
     ]
    },
    {
     "name": "stdout",
     "output_type": "stream",
     "text": [
      "Could not predict sentiment for review: this is a really great series. i love the show and i am so glad it isn't canceled yet. it has really good humor and shows the realistic bond between a young mother and her daughter. o yes for Gilmore girls! it is very awesome. they are such a sarcastic humorous bunch. they do everything together just like my mom and me. ya for Gilmore girls. um, i'm running out of lines. but i love how Luke and Lorelei's relationship is finally shaping up. they so needed to be together. and i absolutely just love Sookie St. James! she is so awesome . and the show wouldn't be anywhere without Michel. the whole show is dry humor, sarcasm, and life in a very small town where everyone knows each other....especially the Gilmore Girls.\n",
      "Top k tokens: ['\\n', ' \\n', ' this', ' ', ' I', ' yes', ' This', ' it', ' Yes', '\\n\\n', ' The', ' It', '\\n ', ' the', ' [', ' no', ' i', ' No', ' If', ' \"', ' if', ' \\n\\n', ' <', ' You', ' you', ' *', ' not', '\\n  ', '  \\n', ' NO', ' my', '\\n\\n\\n', ' Y', ' **', ' Please', '  ', ' a', ' Not', ' A', ' very', ' S', ' y', ' �', ' (', ' My', ' Very', ' Great', '<|endoftext|>', ' In', ' -']\n",
      "Could not predict sentiment for review: Okay, sure, this film will never win an oscar. Citizen cane this film is not... BUT why does every film have to be scrutinized? when was the last time you saw a film that was funny not becuase it was good, but because it was goofy? doesn't anyone remember roger corman, king of exploitation?<br /><br />well, I had fun. I liked the cheese. just go in not expecting to think, and prepare to throw popcorn at the screen.\n",
      "Top k tokens: [' I', ' <', '\\n', ' ', ' Yes', ' This', ' It', ' The', ' No', ' yes', ' \"', '\\n ', ' You', ' Not', ' it', ' this', ' If', ' A', ' Well', '<', ' Okay', ' Y', ' C', ' F', ' Yeah', ' Good', ' \\n', ' NO', ' </', ' That', ' *', ' Fun', ' In', ' no', ' Bad', ' N', ' My', ' not', ' Very', ' Oh', '</', ' the', ' So', ' (', ' NOT', ' Movie', ' Wow', ' Ok', ' OK', ' At']\n"
     ]
    },
    {
     "name": "stderr",
     "output_type": "stream",
     "text": [
      "Processing:  80%|████████  | 401/500 [00:08<00:02, 46.24it/s]"
     ]
    },
    {
     "name": "stdout",
     "output_type": "stream",
     "text": [
      "Could not predict sentiment for review: It was so very long ago (1960), but I have never forgotten this series and often wished it would reappear. So taken with it, I corresponded with Mr. Rathbun, then president of Standard Oil, which sponsored the presentation on PBS. He sent me a photo of the tapestry (actually a charcoal rendering) used behind the credits.<br /><br />To the opening theme music of Bayco's \"Elizabethan Masque,\" my family and I gathered around our black & white TV to drink in Shakespeare's words as spoken by a group of excellent but relatively unknown players (at least to American audiences at the time).<br /><br />We were introduced to such actors as Sean Connery, Dame Judi Dench, Tom Fleming, Patrick Garland, Julian Glover and Robert Hardy. I have continued to enjoy their accomplishments ever since. One of the most interesting things was the way in which the actors continued to age in their respective roles as Shakespeare's \"King\" plays were presented, perhaps for the first time, in chronological order.<br /><br />I wish I could tell those actors just how much that series meant to me.<br /><br />If \"Age of Kings\" could be revived on VHS and/or DVD, it would so please those of us who long to see it again and those who missed it the first time around.<br /><br />GOOD NEWS! PBS HAS JUST ISSUED A DVD OF \"AN AGE OF KINGS\"! SEE THEIR JULY 2009 CATALOG, PAGE 19, OR CALL THEM TOLL FREE. I JUST ORDERED MINE!\n",
      "Top k tokens: ['\\n', ' <', ' ', ' I', '<', '\\n ', ' Yes', ' \\n', '<|endoftext|>', ' \"', ' It', '\\n  ', ' The', ' If', ' No', ' Please', ' This', ' http', ' You', ' NO', ' A', '\\n\\n', '</', ' (', ' </', ' Y', ' What', 'http', ' Thank', ' My', ' yes', ' Good', ' *', ' Go', ' Click', ' [', ' __________________', ' Do', ' Not', ' How', 'I', ' -', ' In', 'Yes', ' >', '  ', '\\n   ', ' Will', '\\n\\n\\n', ' An']\n"
     ]
    },
    {
     "name": "stderr",
     "output_type": "stream",
     "text": [
      "Processing:  86%|████████▌ | 431/500 [00:09<00:01, 44.95it/s]"
     ]
    },
    {
     "name": "stdout",
     "output_type": "stream",
     "text": [
      "Could not predict sentiment for review: Now I remember what the 'indie' filmmakers were ripping off before Pulp Fiction. It was David Lynch, right?<br /><br />I hunted this thing down to see Kyle Secor. What a waste of a perfectly good Bayliss. It was so painful to watch him, sort of like when someone you love is horribly sick and there's nothing you can do.<br /><br />Nearly every cliche in the book: the desert, the psycho, the quirky mob boss, the biker, Tracy Walker (who fortunately was only in one scene, but I kept expecting him to reappear and say something strange and profound like \"If a man wants to know where he's going, he's got to look at where he's been,\" or some contrived garbage like that). I have a theory as to why so many indies are short on location in the desert. I think it's because they can save money on lighting.<br /><br />If you like to be in pain, find this movie and give it a viewing. If you're a fan of Kyle Secor, watch reruns of Homicide on Court TV. If you want a good, quirky road thriller, check out Wild At Heart.<br /><br />There is a reason that no one has heard of Delusion! My god, what a waste of a good title.\n",
      "Top k tokens: [' I', ' <', ' ', ' It', '\\n', ' No', ' Yes', ' This', ' The', '<', '\\n ', ' \\n', ' If', ' \"', ' You', ' Not', ' A', ' My', ' K', ' Y', ' it', ' yes', ' Def', ' H', '\\n  ', ' D', ' Del', ' Good', ' What', '</', ' Very', ' Only', ' N', ' </', ' There', ' Bad', ' (', ' NO', ' So', ' this', ' In', ' That', ' Thank', ' Dis', ' Wow', ' *', ' Well', ' F', ' As', ' http']\n"
     ]
    },
    {
     "name": "stderr",
     "output_type": "stream",
     "text": [
      "Processing:  88%|████████▊ | 441/500 [00:09<00:01, 44.48it/s]"
     ]
    },
    {
     "name": "stdout",
     "output_type": "stream",
     "text": [
      "Could not predict sentiment for review: Bedrooms and Hallways gives its audience a look into the mind of a man who thinks he's found himself, only to find out that he's not so sure he found the right guy. If you think that all gay comedies are the same, check this one out. Although the movie ends without much resolution, the hilarious one-liners, peculiar situations, and quirky characters are sure to satisfy.\n",
      "Top k tokens: ['\\n', ' Yes', ' ', ' I', ' If', ' The', ' Bed', ' This', ' It', ' [', ' No', ' You', ' \\n', ' \"', '\\n ', ' Not', ' A', ' *', '\\n  ', ' **', ' Only', '<|endoftext|>', ' <', '\\n\\n', ' Y', ' In', ' We', ' There', ' As', '\\n   ', ' Although', ' My', ' Based', ' For', ' None', ' Most', ' yes', '  ', ' Good', ' (', ' What', ' At', ' Please', ' ***', ' Very', ' Maybe', ' Even', ' While', ' Absolutely', ' All']\n",
      "Could not predict sentiment for review: i enjoyed this film immensely, due to pungent scenes (humorous as well as ironic, some even \"tragical\"), believable performances, witty dialogue and a heartfelt rendering of what it´s like or rather c a n be like to be hetero- and/or homosexual & on the lookout for fulfilment of your desires. i´m aware of the paradox here: homo- a n d hetereosexual.... this is something the film tackles on end, but never uses for caricature. if you´re as open-minded as the people seem to have been who made that film, in the end it won´t matter to you if those who lie in each others arms are of the same sex or not.<br /><br />\"mr. smith\" from the matrix gives an admirable turn as a gay houses-salesman with \"strange\" appetites here, but that´s not the only thing to marvel at. enjoy.....\n",
      "Top k tokens: [' <', ' ', '\\n', '<', ' I', ' i', ' \"', ' yes', ' \\n', ' The', ' Yes', ' This', ' this', ' It', ' it', ' If', ' No', '\\n ', ' no', ' the', ' You', ' Please', '</', ' http', ' -', ' A', '\\n  ', ' if', ' a', ' </', ' you', ' (', '<|endoftext|>', ' *', ' M', '\\n\\n', ' \"<', ' **', ' [', ' In', ' my', ' please', ' My', ' Y', ' +', '[', '...', ' m', ' by', ')<']\n",
      "Could not predict sentiment for review: Tycoon will never be listed as one of John Wayne's better post Stagecoach film. It's good in spots, has some fine action sequences in the cave in and also in the flood at the climax. But the plot leaves a lot to be desired.<br /><br />What we have in Tycoon is two men who thoroughly dislike each other and that dislike prevents them from working as a team. Multimillionaire Cedric Hardwicke has hired John Wayne and James Gleason to build a railroad. But then he refuses to give them the needed funds to do the job right.<br /><br />Things get really complicated when Wayne falls for Hardwicke's daughter, Laraine Day. After a night when they have to spend time alone in an Inca ruin, by convention in South America, Wayne and Day get a shotgun wedding even though nothing happened.<br /><br />What should have happened is these two should have been locked in a room for 24 hours together to work out their differences one way or another. Their petty spites cause some fatalities among Wayne's crew.<br /><br />But what Tycoon is most known for is another piece of pettiness. Laraine Day was married to Leo Durocher the manager of the Brooklyn Dodgers when this was being filmed. He was a constant presence on the set, insanely jealous of John Wayne who he thought might be having an affair with his wife. Nothing to it, but he made his wife's life miserable.<br /><br />Not one of the Duke's better efforts.\n",
      "Top k tokens: ['\\n', ' ', ' <', ' Ty', ' I', '<', ' The', ' John', ' \\n', ' It', ' This', ' Yes', 'Ty', ' If', ' No', '<|endoftext|>', ' \"', '\\n  ', '\\n ', ' A', ' You', ' Not', '</', '\\n\\n', ' </', ' My', ' There', ' What', ' In', ' T', ' Good', ' yes', 'The', ' (', ' Bad', 'John', ' We', ' As', ' >', ' James', ' http', ' None', '  ', ' **', ' Y', '\\n    ', ' An', 'T', ' One', 'This']\n"
     ]
    },
    {
     "name": "stderr",
     "output_type": "stream",
     "text": [
      "Processing:  90%|█████████ | 451/500 [00:10<00:01, 45.46it/s]"
     ]
    },
    {
     "name": "stdout",
     "output_type": "stream",
     "text": [
      "Could not predict sentiment for review: I bought this video on a throw-out table at the video store expecting a good cast in what was touted as an award-winning Brit sex comedy. I guess I should have read the finer print. I rarely write a panning review, but here goes.<br /><br />These actors in gay roles really play games with your memories of a lot of far more worthy films. This comedy was a very cruel joke at the expense of the actors, the theatre-going public and of all the nice films that have contributed to their reputations.<br /><br />I repeat: is the joke about trashing the actors' other highly respectable on-screen personae with this scurrilously trashy flick? Can the reference to the Austen classics 'Pride and Prejudice' and 'Sense and Sensibility' be anything else? How much of a political statement was it to produce this melodrama using these stars? Are we meant to simply take it as a lay-down misere that all actors are gay and thus letting their on-screen roleplay affect our lifestyles is accepting their private homosexual dealings in our faces, too? I'm sorry, but I don't think so. I say NO to this one.\n",
      "Top k tokens: [' I', ' <', ' ', '\\n', ' Yes', ' This', ' It', ' The', '<', ' No', ' If', ' \"', ' A', ' yes', ' \\n', ' You', '</', '\\n ', ' this', ' it', ' Not', ' My', ' Y', '\\n  ', ' </', ' In', ' Please', ' What', ' Is', ' *', ' Good', ' Only', ' There', \" '\", ' As', ' (', 'I', '\\n\\n', ' NO', ' the', ' Thank', ' **', '<|endoftext|>', ' http', ' An', ' Very', ' F', ' Here', ' For', ' That']\n",
      "Could not predict sentiment for review: Ridiculous, nauseating doggerel with terrible acting; ineptly, superficially, and condescendingly trawling all the most banal clichés about Tuscany and Italy, divorce and midlife. The main actor nervously grimaces her way through the film, struggling to portray the appropriate level of smug, self-congratulatory self-pity the worthless character and script call for. I'm sure the book was bad, but it can't have been this bad! The camera is permanently fitted with a vomit-yellow \"Tuscan\" lense filter (perhaps the Tuscan sun wasn't Tuscan enough?), which they forgot to remove when the scene shifts to Rome and (how imaginative!) the Amalfi coast. You've never seen the white marble of Rome's Vittorio Emmanuelle monument looking so yellow... I mean Tuscan. One of the worst movies ever, and therefore quite worth a look.\n",
      "Top k tokens: ['\\n', ' ', ' I', ' \\n', ' The', ' It', ' Yes', ' This', ' No', '\\n ', ' If', ' Not', ' A', ' \"', ' *', ' You', ' Bad', ' T', ' Very', ' Rid', '\\n  ', ' Absolutely', ' R', ' [', ' In', ' Y', '\\n\\n', ' **', ' N', ' None', ' F', ' There', '  ', ' My', ' As', ' Only', ' Good', '\\n   ', ' yes', ' S', ' _', ' For', ' (', ' True', ' it', ' Nice', ' <', ' An', ' NO', ' Un']\n",
      "Could not predict sentiment for review: \"Where to begin, where to begin . . ?(Savannah in the episode \"Gimme Shelter\")\" To disabuse: Fox/Viacom does not, at this point in time, have any intention of releasing THE show on DVD. But be not downhearted! That you are reading this reveals that the magic lingers fifteen years on . . . And small wonder. This was post-modern television, a valiant attempt to visualize magical realism. 'neath the blue patina, charm, and brio were scripts bursting with symbolism and metaphor, music that actually interacted with scenes! And, ultimately, an attempt, however doomed, to recapture one's belief in innocence, to reclaim Eden, as it were . . . It's potency is perhaps best attested to by the fact that even as we, umm, type, a book is being written about the show wherein will be found the thoughts, fancies, and reminiscences of many of the show's actors, writers, directors, and producers. In the meanwhiles . . . anyone desirous of once again visiting the end of the world and reacquainting themselves with Seamus, Sheriff Cody, Savannah, et al . . . should not hesitate to contact me, I may be able to make you a copy. \"Angels in the spray, wizards in the palm trees . . .\"\n",
      "Top k tokens: [' \"', ' I', ' ', '\\n', ' Yes', ' The', ' If', ' This', ' It', ' \\n', ' No', ' You', ' A', \" '\", ' yes', ' (', '\\n ', ' [', ' What', ' In', ' Please', ' F', ' *', ' As', ' http', ' There', ' My', ' To', '<|endoftext|>', ' Only', ' Fox', ' Thank', ' Not', ' Y', \" ''\", ' Good', ' We', ' For', ' S', ' -', ' **', ' By', ' if', ' None', ' That', ' True', ' An', ' Is', ' \"\"', '\\n\\n']\n",
      "Could not predict sentiment for review: .... could it be that ITV wouldn't want to release this absolute classic because it would show up their current series of Mike Bassett for what it is? When discussing Mike Bassett with some work colleagues I mentioned Bostock's Cup as being a far superior offering and was surprised to find that I seem to be the only person in my entire office that has actually seen it. This can't be right for a film that has got to be the funniest thing I have ever seen.<br /><br />Let's face it, ITV don't have the greatest recent record for producing comedy so you would think that they would jump at the chance of at least repeating something which is genuinely funny. Perhaps if it could be combined with a lucrative telephone competition of where we think the coach driver will go next then they might be interested.<br /><br />Come on ITV, there are still some of us out there who would like to watch original, quality comedy/drama. Do the decent thing thing. Repeat it then get it out on DVD.\n",
      "Top k tokens: [' ....', ' ', ' <', ' I', ' ...', ' IT', ' \"', ' It', '\\n', ' \\n', ' Yes', ' The', '....', ' This', ' No', ' ..', ' If', '...', '.....', '........', ' </', ' >', '<|endoftext|>', ' You', ' ?', ' A', '<', ' Y', ' In', ' (', '..', ' :', ' Not', ' http', ' NO', ' -', ' yes', ' That', ' There', ' it', ' What', ' Mike', ' Its', ' B', ' We', ' Is', '\\n  ', '\\n ', ' IF', ' My']\n"
     ]
    },
    {
     "name": "stderr",
     "output_type": "stream",
     "text": [
      "Processing:  92%|█████████▏| 461/500 [00:10<00:00, 46.13it/s]"
     ]
    },
    {
     "name": "stdout",
     "output_type": "stream",
     "text": [
      "Could not predict sentiment for review: I blow hot and cold over Carné. He really can be a puzzle for me. I think perhaps his inspiration left him a little earlier than it did for other directors of his generation. Certainly a man who came to maturity in the Thirties with the Popular Front seems ill at ease in the France of the Fifties, with its rampant commercialism and heavy American influence. He is almost thirty years older than his young stars, and it shows. The party scenes go on much longer than they should, as if he were trying to buy time for the anemic scenario to work. Roland Lesaffre's character--he plays Pascale Petit's older brother--seems to exist only to reassure the director that his old-style ideas are still sound.<br /><br />At two hours, this picture is far too long. Still, let me praise Pascale Petit for her game performance; she was a natural who should have challenged Brigitte Bardot for sexpot supremacy, but somehow lost her way. Andrea Parisy is excellent too as the girl who gets pregnant and wants Charrier to marry her and make her baby legitimate (yes, they still thought that way in the Fifties). Laurent Terzieff is the only French actor who could play an anarchist convincingly: he is great here as he rescues a cat from death, then remarks he can't stand cats. Jacques Charrier only reminds me how mediocre he was as an actor, with that constant little grin and those blank eyes.\n",
      "Top k tokens: [' I', ' ', '\\n', ' <', ' Yes', ' This', ' It', ' The', ' \\n', ' No', ' If', ' A', '\\n ', ' \"', ' You', ' Not', ' yes', '\\n  ', '<', ' P', ' My', ' Very', ' In', '</', ' There', ' </', ' it', ' Good', ' F', ' Only', ' this', ' As', ' *', ' C', ' Nice', ' An', ' For', ' R', ' What', ' Bad', ' Let', ' Thank', ' (', ' NO', ' At', ' We', ' He', ' Well', ' Nothing', ' N']\n"
     ]
    },
    {
     "name": "stderr",
     "output_type": "stream",
     "text": [
      "Processing:  94%|█████████▍| 471/500 [00:10<00:00, 45.26it/s]"
     ]
    },
    {
     "name": "stdout",
     "output_type": "stream",
     "text": [
      "Could not predict sentiment for review: Buddy Manucci(Roy Scheider, solid in a chance leading role)heads a secret undercover police squad called the Seven-Ups whose tactics don't necessarily follow the exact ways of the law. They get the job done in their own way without anything being leaked to the press, and this gives them a freedom to expand their means of getting to the criminals most working detectives and policeman just can not nab. Buddy has a pal from childhood named Vito(Tony Lo Bianco)who swaps information with him regarding mob types and shysters working the streets in NYC. What Buddy doesn't know is that Vito is hatching a scheme using names from Buddy's \"check list\"(he has this book open taking down notes provided by Vito, but doesn't know that his friend has copied those very names written within his mind)to set up mob families in a series of mob kidnappings eliciting cash thanks to two cop-posers, Moon(the always-villainous Richard Lynch)and Bo(Bill Hickman)working with him. When this scheme goes awry, with one of the Seven-Ups being killed, Vito becomes fearful because he knows how Buddy can be when he's doggedly after someone..especially when one of his own is murdered.<br /><br />Extremely underrated cop flick has thrilling car chase through New York City as Buddy follows the kidnapping cop-imposter's trying to get them after killing his partner. The film isn't overly complex after the plot is set-up and we realize who is the ring-leader in the scheming of mobsters. Scheider has never been given the credit he deserves as a fine lead actor. He has emotional range and we see how losing his cop and friend takes it's toll on him. The film is briskly paced with good action sequences and sets up an interesting plot of betrayal between friends as greed comes before that childhood friendship and how what seems like a smooth crime-spree against evil mob families can get cops killed.\n",
      "Top k tokens: [' ', '\\n', ' <', ' \\n', ' Yes', ' The', ' I', '\\n ', ' \"', ' Budd', ' No', '<', ' This', ' It', ' If', '\\n  ', '<|endoftext|>', ' yes', 'The', ' *', '</', ' You', ' </', 'Yes', 'No', ' Not', ' A', ' [', ' **', 'I', ' Only', ' no', 'This', ' (', 'M', ' There', ' it', ' Y', ' Very', ' Movie', '\\n\\n', 'S', ' In', 'R', '1', ' My', '\\n   ', ' None', ' BO', ' -']\n",
      "Could not predict sentiment for review: These writers are trying to re-create the characters they have on \"scrubs\" in a different occupation however the characters they are stuck with have no charisma or acting ability not to mention the writing seems poor and effortless. These guys are trying to create something that would be good if the writing wasn't so disgusting which is leaving the shows only lifeline to be two attractive teachers that that are barely keeping it alive. The humor in this show seems like it is trying to target an audience with an I.Q. of 40 or below. Another reason why this show is becoming a failure could be that the writing on the show \"scrubs\" is excellent and this show has to follow it up leaving the viewer in an odd position not knowing whether to cry or to just lose hope in new sitcoms all together. This is just my opinion but i think these guys should stop now before they humiliate themselves anymore than they have already.\n",
      "Top k tokens: ['\\n', ' This', ' I', ' ', ' The', ' Yes', ' If', ' \\n', ' It', ' \"', ' These', ' No', ' None', ' this', ' There', '\\n ', ' As', '\\n\\n', ' A', ' Not', ' In', ' My', ' [', ' You', ' Only', ' They', ' Overall', ' We', ' All', ' One', ' Based', ' For', ' Y', ' yes', '\\n  ', ' What', ' After', ' Well', ' <', ' **', ' Just', ' Please', ' Here', '  ', 'This', ' Good', ' So', ' Although', ' To', ' An']\n"
     ]
    },
    {
     "name": "stderr",
     "output_type": "stream",
     "text": [
      "Processing:  97%|█████████▋| 486/500 [00:10<00:00, 46.32it/s]"
     ]
    },
    {
     "name": "stdout",
     "output_type": "stream",
     "text": [
      "Could not predict sentiment for review: The trio are a pleasant, nostalgic journey to that first hint of desire--when it was still about simple exploration of the unknown--before we \"grew up\" and added those complexities of HIV status, emotional baggage and gotta-run-my-pager-just-went-off into the emotional mix.<br /><br />The angst portrayed is pure adolescent angst, but it rings true in all three stories. Their sweetness and positivity make you feel good that you are gay. And those kinds of films are few and far between.<br /><br />Good news! Both Boys Life and Boys Life 2 are now readily available on DVD as of September 1999.\n",
      "Top k tokens: [' <', '<', ' The', ' ', '\\n', ' Yes', ' \\n', '</', ' I', ' \"', ' Good', ' No', ' </', ' If', ' Boys', ' It', ' This', ' A', '\\n ', ' You', '\\n  ', ' Y', ' (', '<|endoftext|>', ' Bad', 'The', ' *', ' yes', ' Not', ' There', ' What', ' In', ' We', '  ', '\\n\\t', ' My', 'Yes', ' One', ' **', ' That', ' [', ' Boy', ' Please', ' For', ' B', '\\n\\n', ' Only', ' NO', ' They', ')<']\n",
      "Could not predict sentiment for review: i just get exited when the movie start(because i saw Juliette lewis name on the screen).the script seemed very complicated first but as the movie continued, it became understandably clear.i concentrated well on it but the result was disappointing.because the object of sex used too much on the film unnecessarily and it seemed to me that the director ignore ones who has tendency upon opposite sex.in my opinion the well prepared script couldn't be embodied.as we look at the cast,the movie promises something in the beginning or i just expected too much... and finally the end...the end is so so much mediocre that i wouldn't expect.the main character Cassandra wants to give message about having baby and how a baby can change a life,in my opinion that scene is the real disaster for the film. all in all the characters are funny and acted beautifully.but only cast can't save a movie.\n",
      "Top k tokens: ['\\n', ' ', ' \\n', ' Yes', ' I', ' yes', '\\n ', '\\n\\n', '<|endoftext|>', ' i', ' [', ' The', ' No', ' no', '\\n\\n\\n', '\\n  ', ' \"', ' \\n\\n', ' It', ' the', ' it', ' <', ' If', ' This', ' Please', ' You', ' *', ' (', ' A', ' **', ' this', '  ', ' �', ' a', ' if', ' by', ' you', ' Y', '\\n\\n\\n\\n', ' -', ' +', 'Yes', '[', ' Good', ' http', '  \\n', ' NO', ' Not', ' In', ' my']\n",
      "Could not predict sentiment for review: ...left behind when the ostensible heroine's Venus flytrap makes any man whose sexual advances are forced upon her--ahem!--disappear. Fiona \"This IS my career!\" Horsey is an attractive enough screamqueen ingenué, although I found her acting chops to be suspect. With better direction, and a better vehicle, she might improve. Likely as not, her leading man, Paul \"Mine, too!\" Conway, never will, proving to be one of the most unlikeable, unattractive love interests I've seen in a film in recent memory. There's some nonsense involving Siamese twins, a frying-pan-to-the-head-obvious hot dog joke, a reasonable amount of bare boobies, production values in the low-budget-to-laughable range, scripting that would make Syd Field cry, acting that by and large only an Ed Wood could love, and camera-work a step above pedestrian. The vagina dentata gimmick might well have made for an interesting horror movie, but \"Angst\" botches the premise. Strictly for stoned-out viewing, and even then, you could do much better. Sturgeon's Law (or Revelation) still holds.\n",
      "Top k tokens: [' ...', ' ', ' \\n', '\\n', ' I', ' [', ' The', ' This', ' No', ' Yes', ' It', '\\n ', ' If', ' A', ' F', ' **', ' *', ' Not', ' \"', ' H', ' ....', ' In', ' You', ' An', ' What', '  ', ' _', ' Hor', ' None', ' …', ' Ang', ' Only', ' ..', ' Y', '...', '\\n  ', ' There', ' N', ' <', ' (', ' As', ' My', ' Nothing', ' [...]', '\\n\\n', ' Well', ' M', ' Very', ' We', ' �']\n"
     ]
    },
    {
     "name": "stderr",
     "output_type": "stream",
     "text": [
      "Processing: 100%|██████████| 500/500 [00:11<00:00, 45.12it/s]"
     ]
    },
    {
     "name": "stdout",
     "output_type": "stream",
     "text": [
      "Could not predict sentiment for review: The only time I seem to trawl through IMDb comments is when I've seen a duff film. I guess I'm looking to find reassurance that it's not just me. For me, then, Lonesome Jim was a duff film packed with unbelievable characters in unbelievable situations which limped on lamely and boringly towards a cop-out hackneyed conclusion. So I check out what other people have to say and feel a bit like Jim, out on a limb, alienated, as page after page of multiple star ratings and plaudits leave me doubting my critical faculties. Yet maybe I should check the settings for the comments presentation, since after a while the gushing dies down and I'm relieved to see appreciations that mirror my own. I feel vindicated. It IS a rubbish film, it DOESN'T hang together and it DOES constitute a wasted evening sitting through it. Praise be to kindred spirits.\n",
      "Top k tokens: ['\\n', ' ', ' \\n', ' I', ' The', ' Yes', ' L', ' It', ' No', ' This', ' If', '\\n ', ' A', ' [', '  ', ' You', ' \"', ' *', ' <', ' Not', '\\n\\n', ' **', ' There', '\\n  ', ' In', ' My', ' yes', ' None', ' Only', ' As', '\\n   ', ' Y', '  \\n', ' We', ' That', ' \\n\\n', ' For', ' F', ' What', ' (', ' Good', ' Well', ' Please', ' _', ' \\n   ', ' To', '<|endoftext|>', ' An', ' it', ' Very']\n",
      "Could not predict sentiment for review: The CinemaScope color cinematography of Leon Shamroy is quite remarkable here,including his use of colored filters for<br /><br />various scenes. The Alfred Newmann Score has to be the most sensual and seductive score Hollywood ever produced. It's a shame it is no longer available on CD. The actors, however, never rise to the occasion. The accents are so varied, from the subdued British of Ustinov and Purdom to the Hollywood of Baxter and Mature that it seems a true hodgepodge with no central vision. Tommy Rettig is jarringly American. Acting styles span the range from zombie-like to stilted. Only Ustinov as a conniving one-eyed servant steals the show - what there is of it to steal. The premise - the story of a young Egyptian doctor, seduced and abandoned by the rich - and the parallel theme of the cult of the single God, Ra - persecuted by the authorities, has its interesting points. But when the film's plot fades, it is the haunting music and visuals that remain.\n",
      "Top k tokens: ['\\n', ' <', ' The', ' ', ' \\n', '<', ' I', ' Yes', '\\n ', ' This', ' No', ' If', ' It', '\\n  ', '<|endoftext|>', '</', ' \"', ' A', ' </', 'The', ' You', ' Leon', '\\n\\n', ' Not', ' Only', ' Movie', ' There', ' Please', ' In', ' What', ' -', ' yes', ' Thank', ' My', '  ', ' [', ' Is', ' Film', ' An', ' We', ' the', '\\n   ', ' $', '  \\n', ' http', ' (', ' __________________', ' Your', ' Very', ' None']\n",
      "[0, 0, 0, 0, 0, 0, 0, 0, 0, 0, 0, 0, 0, 0, 0, 0, 0, 0, 0, 0, 0, 0, 0, 0, 0, 0, 0, 0, 0, 0, 0, 0, 0, 0, 0, 0, 0, 0, 0, 0, 0, 0, 0, 0, 0, 0, 0, 0, 0, 0, 1, 0, 0, 0, 0, 0, 0, 0, 0, 0, 0, 0, 0, 0, 0, 0, 0, 0, 0, 0, 0, 0, 0, 0, 0, 0, 0, 0, 0, 0, 0, 0, 0, 0, 0, 0, 0, 0, 0, 0, 0, 0, 0, 0, 0, 0, 0, 0, 0, 0, 0, 0, 0, 0, 0, 0, 0, 0, 0, 0, 0, 0, 0, 0, 0, 0, 0, 0, 0, 0, 0, 0, 0, 0, 0, 0, 0, 0, 0, 0, 0, 0, 0, 0, 0, 0, 0, 0, 0, 0, 0, 0, 0, 0, 0, 0, 0, 0, 0, 0, 0, 0, 0, 0, 0, 0, 0, 0, 0, 0, 0, 0, 0, 0, 0, 0, 0, 0, 0, 0, 0, 0, 0, 0, 0, 0, 0, 0, 0, 0, 0, 0, 0, 0, 0, 0, 0, 0, 0, 0, 0, 0, 0, 0, 0, 0, 0, 0, 0, 0, 0, 0, 0, 0, 0, 0, 0, 0, 0, 0, 0, 0, 0, 0, 0, 0, 0, 0, 0, 0, 0, 0, 0, 0, 0, 0, 0, 0, 0, 0, 0, 0, 0, 0, 0, 0, 0, 0, 0, 0, 0, 0, 0, 0, 0, 0, 0, 0, 0, 0, 0, 0, 0, 0, 0, 0, 0, 0, 0, 0, 1, 0, 0, 0, 0, 0, 0, 0, 0, 0, 0, 0, 0, 0, 0, 0, 0, 0, 0, 0, 0, 0, 0, 0, 1, 0, 0, 0, 0, 0, 0, 0, 0, 0, 0, 0, 0, 0, 0, 0, 0, 0, 0, 0, 0, 0, 0, 0, 0, 0, 0, 0, 0, 0, 0, 0, 0, 0, 0, 0, 0, 0, 0, 0, 0, 0, 0, 0, 0, 0, 0, 0, 1, 0, 0, 0, 0, 0, 0, 0, 0, 0, 0, 0, 0, 0, 0, 0, 0, 0, 0, 0, 0, 0, 0, 0, 0, 0, 0, 0, 0, 0, 0, 0, 0, 0, 0, 0, 0, 0, 0, 0, 0, 0, 0, 0, 0, 0, 0, 0, 0, 0, 0, 0, 0, 0, 0, 0, 0, 0, 0, 0, 0, 0, 0, 0, 0, 0, 0, 0, 0, 0, 0, 1, 0, 0, 0, 0, 0, 0, 0, 0, 0, 0, 0, 0, 0, 0, 0, 0, 0, 0, 0, 0, 0, 0, 0, 0, 0, 0, 0, 0, 0, 0, 0, 0, 0, 0, 0, 0, 0, 0, 0, 0, 0, 0, 0, 0, 0, 0, 0, 0, 0, 0, 0, 0, 0, 0, 0, 0, 0, 0, 0, 0, 0, 0, 0, 0, 0, 0, 0, 0, 0, 0, 0, 0, 0, 0, 0, 0, 0, 0, 0, 0, 0, 0, 0, 0, 0, 0, 0, 0, 0, 0, 0, 0, 0, 0, 0, 0]\n",
      "+-------------------------------------+\n",
      "|  Results for SmolLM2-135M Zero-Shot |\n",
      "+----------------------------+--------+\n",
      "|           Metric           | Value  |\n",
      "+----------------------------+--------+\n",
      "|          Accuracy          |  0.51  |\n",
      "|    Recall (Sensitivity)    |  0.01  |\n",
      "|        Specificity         |  0.99  |\n",
      "|         Precision          |  0.60  |\n",
      "|          F-Score           |  0.02  |\n",
      "|     % True Predictions     | 1.00%  |\n",
      "|    % False Predictions     | 99.00% |\n",
      "|  Total Inference Time (s)  |  9.43  |\n",
      "| Average Inference Time (s) |  0.02  |\n",
      "+----------------------------+--------+\n"
     ]
    },
    {
     "name": "stderr",
     "output_type": "stream",
     "text": [
      "\n"
     ]
    }
   ],
   "source": [
    "zero_135_results = evaluate_model(model, tokenizer, device, test_dataset, shot_type='zero')\n",
    "\n",
    "zero_135_table = create_results_table(zero_135_results, model_name=\"SmolLM2-135M Zero-Shot\")\n",
    "print(zero_135_table)"
   ]
  },
  {
   "cell_type": "markdown",
   "metadata": {},
   "source": [
    "## Few Shot"
   ]
  },
  {
   "cell_type": "code",
   "execution_count": 7,
   "metadata": {},
   "outputs": [
    {
     "name": "stderr",
     "output_type": "stream",
     "text": [
      "Processing: 100%|██████████| 500/500 [00:11<00:00, 44.61it/s]"
     ]
    },
    {
     "name": "stdout",
     "output_type": "stream",
     "text": [
      "[1, 1, 0, 1, 0, 1, 1, 0, 1, 0, 0, 0, 1, 1, 1, 1, 1, 1, 1, 1, 0, 1, 1, 1, 1, 1, 1, 1, 1, 0, 1, 0, 0, 0, 1, 1, 0, 1, 0, 1, 0, 0, 1, 0, 0, 1, 1, 1, 1, 0, 1, 1, 0, 1, 1, 0, 0, 1, 1, 1, 1, 0, 1, 1, 0, 0, 1, 0, 1, 0, 1, 1, 0, 1, 1, 0, 1, 1, 1, 0, 1, 1, 0, 1, 0, 1, 1, 0, 1, 1, 1, 1, 1, 1, 1, 0, 1, 0, 1, 1, 0, 0, 1, 0, 0, 1, 1, 0, 1, 1, 0, 1, 1, 1, 0, 1, 0, 1, 1, 1, 1, 0, 1, 0, 0, 0, 0, 1, 1, 1, 0, 0, 1, 1, 1, 1, 1, 0, 0, 1, 0, 1, 1, 1, 1, 1, 0, 1, 1, 0, 1, 0, 0, 1, 0, 1, 0, 0, 1, 0, 0, 1, 0, 1, 1, 1, 1, 1, 1, 0, 1, 1, 0, 1, 1, 1, 1, 1, 1, 1, 0, 1, 1, 0, 0, 1, 1, 1, 1, 0, 1, 1, 1, 1, 1, 1, 1, 0, 1, 1, 0, 0, 1, 1, 1, 1, 1, 1, 0, 0, 0, 0, 1, 0, 1, 1, 1, 1, 1, 1, 0, 0, 1, 1, 1, 1, 1, 1, 1, 1, 0, 1, 1, 0, 1, 1, 1, 1, 1, 1, 1, 1, 1, 0, 1, 1, 0, 0, 1, 1, 0, 1, 1, 1, 0, 1, 1, 0, 1, 1, 1, 1, 0, 0, 0, 1, 1, 1, 1, 1, 0, 1, 0, 0, 1, 1, 1, 0, 1, 1, 1, 0, 0, 1, 1, 1, 1, 0, 1, 0, 1, 1, 1, 1, 0, 1, 0, 1, 0, 1, 1, 1, 0, 1, 0, 0, 1, 1, 0, 1, 1, 1, 1, 1, 1, 1, 0, 1, 1, 1, 1, 1, 0, 0, 1, 1, 1, 1, 1, 1, 1, 1, 1, 0, 0, 0, 1, 1, 0, 0, 1, 0, 1, 0, 0, 1, 0, 1, 0, 0, 1, 1, 1, 0, 0, 1, 0, 1, 0, 1, 0, 1, 1, 1, 1, 1, 1, 1, 1, 0, 1, 1, 1, 1, 0, 0, 0, 0, 1, 0, 1, 1, 1, 1, 1, 1, 0, 1, 1, 1, 1, 1, 1, 0, 1, 0, 0, 1, 1, 1, 1, 1, 1, 1, 0, 0, 1, 1, 1, 1, 0, 1, 1, 1, 1, 0, 0, 1, 1, 0, 1, 1, 0, 1, 1, 1, 1, 0, 1, 1, 0, 1, 1, 1, 0, 1, 1, 1, 1, 0, 1, 0, 0, 1, 0, 0, 1, 0, 1, 0, 1, 0, 0, 1, 0, 0, 0, 1, 1, 1, 1, 0, 1, 0, 1, 1, 1, 1, 0, 0, 1, 1, 1, 1, 0, 0, 1, 1, 0, 0, 1, 1, 1, 1, 0, 0, 0, 0, 1, 1, 0, 0, 1, 0, 1, 0, 0, 0, 1, 1]\n",
      "+-------------------------------------+\n",
      "|  Results for SmolLM2-135M Few-Shot  |\n",
      "+----------------------------+--------+\n",
      "|           Metric           | Value  |\n",
      "+----------------------------+--------+\n",
      "|          Accuracy          |  0.59  |\n",
      "|    Recall (Sensitivity)    |  0.74  |\n",
      "|        Specificity         |  0.43  |\n",
      "|         Precision          |  0.56  |\n",
      "|          F-Score           |  0.64  |\n",
      "|     % True Predictions     | 65.40% |\n",
      "|    % False Predictions     | 34.60% |\n",
      "|  Total Inference Time (s)  |  9.36  |\n",
      "| Average Inference Time (s) |  0.02  |\n",
      "+----------------------------+--------+\n"
     ]
    },
    {
     "name": "stderr",
     "output_type": "stream",
     "text": [
      "\n"
     ]
    }
   ],
   "source": [
    "few_135_results = evaluate_model(model, tokenizer, device, test_dataset, shot_type='few')\n",
    "\n",
    "few_135_table = create_results_table(few_135_results, model_name=\"SmolLM2-135M Few-Shot\")\n",
    "print(few_135_table)"
   ]
  },
  {
   "cell_type": "markdown",
   "metadata": {},
   "source": [
    "# SmolLM-360M"
   ]
  },
  {
   "cell_type": "code",
   "execution_count": 8,
   "metadata": {},
   "outputs": [],
   "source": [
    "# Clears cuda from last run\n",
    "# if device == \"cuda\":\n",
    "#     torch.cuda.empty_cache()\n",
    "#     torch.cuda.ipc_collect()\n",
    "#     torch.cuda.reset_peak_memory_stats()\n",
    "    \n",
    "checkpoint = \"HuggingFaceTB/SmolLM2-360M\"\n",
    "tokenizer = AutoTokenizer.from_pretrained(checkpoint)\n",
    "model = AutoModelForCausalLM.from_pretrained(checkpoint).to(device)"
   ]
  },
  {
   "cell_type": "markdown",
   "metadata": {},
   "source": [
    "## Zero Shot"
   ]
  },
  {
   "cell_type": "code",
   "execution_count": 9,
   "metadata": {},
   "outputs": [
    {
     "name": "stderr",
     "output_type": "stream",
     "text": [
      "Processing: 100%|██████████| 500/500 [00:13<00:00, 36.09it/s]"
     ]
    },
    {
     "name": "stdout",
     "output_type": "stream",
     "text": [
      "[1, 1, 1, 1, 1, 1, 1, 1, 1, 1, 1, 1, 1, 1, 1, 1, 1, 1, 1, 1, 1, 1, 1, 1, 1, 1, 1, 1, 1, 1, 1, 1, 1, 1, 1, 1, 1, 1, 1, 1, 1, 1, 1, 1, 1, 1, 1, 1, 1, 1, 1, 1, 1, 1, 1, 1, 0, 1, 1, 1, 1, 1, 1, 1, 1, 0, 1, 1, 1, 1, 1, 1, 1, 1, 1, 1, 0, 1, 1, 1, 1, 1, 1, 1, 1, 1, 1, 1, 1, 1, 1, 1, 1, 1, 1, 1, 1, 1, 1, 1, 1, 1, 0, 1, 1, 1, 1, 1, 1, 1, 1, 1, 1, 1, 1, 1, 1, 1, 1, 1, 0, 0, 1, 1, 1, 1, 1, 1, 1, 1, 1, 1, 1, 1, 1, 1, 1, 1, 1, 1, 1, 1, 1, 1, 1, 1, 1, 1, 1, 1, 1, 0, 1, 1, 1, 1, 1, 1, 1, 1, 1, 1, 1, 1, 1, 1, 1, 1, 1, 1, 1, 1, 1, 1, 1, 1, 1, 1, 1, 1, 1, 1, 1, 0, 1, 1, 1, 1, 1, 0, 1, 1, 1, 1, 1, 1, 1, 1, 1, 1, 1, 1, 1, 1, 1, 1, 1, 1, 1, 1, 1, 1, 1, 1, 1, 1, 1, 1, 1, 1, 1, 1, 1, 1, 1, 1, 1, 1, 1, 1, 1, 1, 1, 1, 1, 1, 1, 1, 1, 1, 1, 1, 1, 1, 1, 1, 1, 1, 1, 1, 0, 1, 0, 1, 1, 1, 1, 1, 1, 1, 1, 1, 1, 1, 1, 1, 1, 0, 1, 1, 1, 1, 1, 1, 1, 1, 1, 1, 1, 1, 1, 0, 1, 1, 1, 1, 1, 1, 1, 1, 1, 1, 1, 1, 1, 1, 1, 1, 1, 1, 1, 1, 1, 1, 1, 1, 1, 1, 1, 1, 1, 1, 1, 1, 1, 1, 1, 1, 1, 1, 0, 1, 0, 0, 1, 1, 1, 1, 1, 1, 1, 1, 1, 0, 1, 1, 1, 1, 1, 1, 1, 1, 1, 1, 1, 1, 0, 1, 1, 1, 1, 1, 1, 1, 1, 1, 1, 1, 0, 1, 1, 1, 1, 1, 1, 1, 1, 1, 1, 1, 1, 1, 1, 1, 0, 1, 1, 1, 1, 1, 1, 1, 1, 1, 1, 0, 1, 1, 1, 1, 1, 1, 1, 1, 1, 0, 1, 1, 1, 1, 1, 1, 1, 1, 1, 1, 1, 1, 1, 1, 1, 1, 1, 1, 1, 1, 1, 1, 1, 1, 1, 1, 1, 1, 1, 1, 1, 1, 1, 1, 1, 1, 1, 1, 1, 1, 1, 1, 1, 1, 1, 1, 1, 1, 1, 1, 1, 1, 1, 1, 1, 1, 1, 1, 1, 1, 1, 1, 1, 1, 1, 0, 1, 1, 1, 1, 1, 1, 1, 1, 1, 1, 1, 1, 0, 1, 1, 1, 0, 1, 1, 1, 1, 0, 1, 1, 1, 1, 1, 1, 0, 1, 1, 1, 1, 0, 1, 1, 1, 1]\n",
      "+-------------------------------------+\n",
      "|  Results for SmolLM2-360M Zero-Shot |\n",
      "+----------------------------+--------+\n",
      "|           Metric           | Value  |\n",
      "+----------------------------+--------+\n",
      "|          Accuracy          |  0.55  |\n",
      "|    Recall (Sensitivity)    |  1.00  |\n",
      "|        Specificity         |  0.11  |\n",
      "|         Precision          |  0.52  |\n",
      "|          F-Score           |  0.69  |\n",
      "|     % True Predictions     | 94.40% |\n",
      "|    % False Predictions     | 5.60%  |\n",
      "|  Total Inference Time (s)  | 10.07  |\n",
      "| Average Inference Time (s) |  0.02  |\n",
      "+----------------------------+--------+\n"
     ]
    },
    {
     "name": "stderr",
     "output_type": "stream",
     "text": [
      "\n"
     ]
    }
   ],
   "source": [
    "zero_360_results = evaluate_model(model, tokenizer, device, test_dataset, shot_type='zero')\n",
    "\n",
    "zero_360_table = create_results_table(zero_360_results, model_name=\"SmolLM2-360M Zero-Shot\")\n",
    "print(zero_360_table)"
   ]
  },
  {
   "cell_type": "markdown",
   "metadata": {},
   "source": [
    "## Few Shot"
   ]
  },
  {
   "cell_type": "code",
   "execution_count": 10,
   "metadata": {},
   "outputs": [
    {
     "name": "stderr",
     "output_type": "stream",
     "text": [
      "Processing: 100%|██████████| 500/500 [00:15<00:00, 32.52it/s]"
     ]
    },
    {
     "name": "stdout",
     "output_type": "stream",
     "text": [
      "[1, 1, 1, 1, 1, 1, 1, 0, 1, 1, 1, 1, 1, 1, 1, 1, 1, 1, 1, 1, 1, 1, 0, 1, 1, 1, 1, 1, 1, 1, 1, 0, 1, 1, 1, 1, 1, 1, 1, 1, 0, 0, 1, 1, 0, 1, 1, 1, 1, 1, 1, 1, 0, 1, 1, 1, 0, 1, 1, 1, 1, 0, 1, 1, 1, 1, 0, 1, 1, 0, 1, 0, 1, 1, 1, 0, 0, 1, 1, 1, 1, 1, 1, 1, 1, 1, 1, 0, 1, 1, 1, 1, 1, 1, 1, 1, 0, 0, 1, 1, 0, 0, 1, 0, 1, 1, 1, 1, 1, 0, 1, 1, 1, 1, 1, 0, 1, 1, 1, 1, 1, 0, 1, 1, 1, 1, 0, 1, 1, 1, 1, 1, 1, 1, 1, 1, 1, 0, 1, 1, 1, 1, 1, 0, 1, 0, 1, 1, 1, 1, 1, 1, 1, 1, 0, 1, 1, 1, 1, 0, 0, 1, 0, 0, 1, 1, 1, 1, 0, 1, 1, 1, 0, 1, 0, 1, 1, 1, 1, 1, 1, 1, 1, 0, 0, 1, 1, 1, 1, 1, 1, 1, 1, 1, 1, 1, 1, 1, 1, 1, 1, 1, 1, 1, 1, 1, 1, 1, 0, 0, 1, 1, 1, 0, 1, 1, 1, 1, 1, 1, 1, 0, 1, 1, 1, 1, 1, 1, 1, 1, 0, 1, 1, 1, 1, 1, 1, 1, 1, 0, 1, 1, 1, 0, 1, 1, 1, 0, 1, 1, 0, 0, 1, 1, 1, 1, 1, 1, 1, 1, 1, 1, 1, 0, 1, 1, 1, 1, 1, 1, 1, 1, 0, 1, 1, 1, 0, 1, 1, 1, 1, 1, 0, 1, 1, 1, 1, 1, 1, 1, 1, 1, 1, 1, 0, 1, 1, 1, 1, 1, 1, 1, 1, 1, 1, 1, 1, 1, 1, 1, 1, 1, 1, 1, 1, 1, 1, 1, 1, 0, 0, 1, 0, 1, 1, 1, 1, 1, 0, 1, 1, 1, 1, 0, 1, 0, 1, 1, 1, 1, 1, 0, 1, 1, 0, 1, 1, 1, 0, 0, 1, 1, 1, 1, 1, 1, 1, 1, 0, 1, 1, 1, 1, 0, 1, 1, 1, 1, 1, 0, 1, 1, 1, 1, 0, 1, 1, 0, 1, 1, 1, 1, 1, 1, 1, 0, 1, 1, 1, 0, 1, 1, 1, 1, 1, 0, 1, 1, 1, 1, 1, 1, 1, 1, 1, 1, 1, 1, 1, 1, 1, 0, 1, 1, 1, 1, 1, 1, 1, 1, 1, 1, 0, 1, 1, 1, 1, 1, 1, 1, 0, 1, 1, 1, 1, 1, 1, 1, 1, 1, 1, 1, 1, 1, 0, 1, 0, 0, 0, 1, 1, 1, 1, 0, 1, 1, 1, 1, 1, 1, 1, 0, 1, 1, 1, 1, 0, 0, 0, 1, 1, 1, 1, 1, 0, 1, 1, 1, 0, 1, 1, 0, 1, 1, 1, 0, 0, 0, 0, 1, 1, 1, 1, 1, 1, 0, 0, 0, 1, 1]\n",
      "+-------------------------------------+\n",
      "|  Results for SmolLM2-360M Few-Shot  |\n",
      "+----------------------------+--------+\n",
      "|           Metric           | Value  |\n",
      "+----------------------------+--------+\n",
      "|          Accuracy          |  0.66  |\n",
      "|    Recall (Sensitivity)    |  0.99  |\n",
      "|        Specificity         |  0.35  |\n",
      "|         Precision          |  0.60  |\n",
      "|          F-Score           |  0.74  |\n",
      "|     % True Predictions     | 81.60% |\n",
      "|    % False Predictions     | 18.40% |\n",
      "|  Total Inference Time (s)  |  9.94  |\n",
      "| Average Inference Time (s) |  0.02  |\n",
      "+----------------------------+--------+\n"
     ]
    },
    {
     "name": "stderr",
     "output_type": "stream",
     "text": [
      "\n"
     ]
    }
   ],
   "source": [
    "few_360_results = evaluate_model(model, tokenizer, device, test_dataset, shot_type='few')\n",
    "\n",
    "few_360_table = create_results_table(few_360_results, model_name=\"SmolLM2-360M Few-Shot\")\n",
    "print(few_360_table)"
   ]
  },
  {
   "cell_type": "markdown",
   "metadata": {},
   "source": [
    "# SmolLM2-1.7B"
   ]
  },
  {
   "cell_type": "code",
   "execution_count": 11,
   "metadata": {},
   "outputs": [],
   "source": [
    "# Clears cuda from last run\n",
    "# if device == \"cuda\":\n",
    "#     torch.cuda.empty_cache()\n",
    "#     torch.cuda.ipc_collect()\n",
    "#     torch.cuda.reset_peak_memory_stats()\n",
    "\n",
    "checkpoint = \"HuggingFaceTB/SmolLM2-1.7B\"\n",
    "tokenizer = AutoTokenizer.from_pretrained(checkpoint)\n",
    "model = AutoModelForCausalLM.from_pretrained(checkpoint).to(device)"
   ]
  },
  {
   "cell_type": "markdown",
   "metadata": {},
   "source": [
    "## Zero Shot"
   ]
  },
  {
   "cell_type": "code",
   "execution_count": 12,
   "metadata": {},
   "outputs": [
    {
     "name": "stderr",
     "output_type": "stream",
     "text": [
      "Processing: 100%|██████████| 500/500 [00:38<00:00, 12.93it/s]"
     ]
    },
    {
     "name": "stdout",
     "output_type": "stream",
     "text": [
      "[1, 1, 0, 1, 0, 1, 1, 0, 0, 1, 1, 0, 0, 1, 1, 1, 0, 1, 1, 1, 1, 1, 1, 1, 0, 1, 1, 1, 1, 1, 1, 0, 1, 0, 1, 1, 1, 1, 1, 1, 0, 0, 0, 1, 0, 1, 1, 1, 1, 1, 1, 1, 1, 1, 1, 1, 0, 1, 1, 1, 0, 1, 1, 1, 1, 0, 1, 1, 1, 0, 1, 0, 1, 1, 1, 0, 0, 1, 1, 0, 0, 1, 0, 1, 1, 1, 1, 0, 1, 1, 1, 1, 1, 1, 1, 0, 1, 0, 1, 1, 1, 1, 0, 0, 1, 1, 1, 1, 1, 1, 1, 1, 1, 1, 1, 1, 1, 1, 1, 1, 0, 0, 1, 1, 1, 1, 1, 1, 1, 1, 1, 0, 1, 1, 1, 1, 0, 0, 1, 1, 1, 1, 1, 1, 1, 0, 1, 1, 1, 0, 0, 0, 0, 1, 0, 1, 1, 1, 1, 1, 0, 1, 0, 1, 1, 1, 1, 0, 0, 0, 1, 1, 0, 0, 1, 1, 1, 1, 1, 1, 1, 1, 1, 1, 0, 1, 1, 1, 1, 0, 0, 0, 0, 1, 1, 1, 1, 1, 1, 1, 1, 0, 1, 1, 0, 1, 1, 1, 1, 0, 1, 1, 1, 1, 1, 1, 1, 1, 1, 1, 0, 0, 1, 0, 1, 1, 1, 1, 1, 0, 0, 1, 1, 0, 1, 1, 1, 0, 1, 1, 1, 1, 1, 0, 1, 0, 1, 1, 1, 1, 1, 0, 1, 1, 1, 1, 1, 1, 1, 1, 1, 1, 1, 1, 0, 1, 1, 0, 1, 0, 1, 1, 1, 1, 1, 1, 0, 1, 1, 1, 1, 0, 0, 1, 0, 1, 1, 1, 1, 1, 1, 1, 1, 1, 0, 1, 1, 1, 0, 1, 1, 1, 1, 1, 1, 1, 1, 1, 1, 1, 1, 1, 0, 1, 1, 1, 1, 0, 1, 0, 1, 1, 0, 0, 1, 1, 1, 1, 1, 1, 1, 1, 1, 1, 1, 0, 1, 0, 1, 1, 1, 0, 1, 1, 0, 1, 0, 1, 0, 0, 1, 1, 1, 1, 1, 1, 1, 1, 1, 1, 0, 1, 1, 0, 1, 1, 1, 1, 1, 1, 1, 0, 1, 1, 0, 1, 1, 1, 1, 1, 1, 1, 1, 1, 1, 0, 1, 1, 1, 1, 1, 1, 0, 0, 1, 0, 1, 1, 1, 1, 1, 1, 1, 1, 1, 0, 1, 1, 1, 1, 1, 0, 1, 0, 1, 0, 0, 1, 1, 1, 1, 1, 1, 0, 1, 1, 1, 1, 1, 1, 1, 0, 1, 1, 1, 1, 1, 1, 1, 1, 1, 1, 0, 1, 1, 0, 0, 1, 1, 1, 1, 1, 1, 0, 1, 1, 0, 1, 1, 1, 1, 1, 1, 1, 1, 1, 0, 0, 0, 1, 1, 0, 1, 1, 0, 1, 1, 1, 1, 0, 0, 1, 1, 0, 1, 0, 0, 1, 1, 1, 0, 1, 1, 1, 0, 0, 0, 0, 1, 1]\n",
      "+-------------------------------------+\n",
      "|  Results for SmolLM2-1.7B Zero-Shot |\n",
      "+----------------------------+--------+\n",
      "|           Metric           | Value  |\n",
      "+----------------------------+--------+\n",
      "|          Accuracy          |  0.71  |\n",
      "|    Recall (Sensitivity)    |  0.98  |\n",
      "|        Specificity         |  0.46  |\n",
      "|         Precision          |  0.64  |\n",
      "|          F-Score           |  0.77  |\n",
      "|     % True Predictions     | 75.80% |\n",
      "|    % False Predictions     | 24.20% |\n",
      "|  Total Inference Time (s)  |  6.88  |\n",
      "| Average Inference Time (s) |  0.01  |\n",
      "+----------------------------+--------+\n"
     ]
    },
    {
     "name": "stderr",
     "output_type": "stream",
     "text": [
      "\n"
     ]
    }
   ],
   "source": [
    "zero_17_results = evaluate_model(model, tokenizer, device, test_dataset, shot_type='zero')\n",
    "\n",
    "zero_17_table = create_results_table(zero_17_results, model_name=\"SmolLM2-1.7B Zero-Shot\")\n",
    "print(zero_17_table)"
   ]
  },
  {
   "cell_type": "markdown",
   "metadata": {},
   "source": [
    "## Few Shot"
   ]
  },
  {
   "cell_type": "code",
   "execution_count": 13,
   "metadata": {},
   "outputs": [
    {
     "name": "stderr",
     "output_type": "stream",
     "text": [
      "Processing: 100%|██████████| 500/500 [00:48<00:00, 10.33it/s]"
     ]
    },
    {
     "name": "stdout",
     "output_type": "stream",
     "text": [
      "[1, 1, 1, 1, 0, 1, 1, 0, 1, 1, 1, 0, 0, 1, 1, 1, 0, 1, 1, 1, 0, 1, 1, 1, 0, 1, 0, 1, 1, 1, 0, 0, 1, 0, 1, 1, 1, 1, 0, 1, 0, 0, 0, 1, 0, 1, 1, 1, 1, 1, 1, 1, 0, 1, 1, 1, 0, 1, 1, 1, 0, 0, 0, 1, 1, 0, 0, 1, 1, 0, 1, 0, 1, 1, 0, 0, 0, 1, 0, 1, 0, 1, 0, 1, 1, 1, 1, 0, 1, 1, 1, 1, 0, 1, 1, 0, 1, 0, 1, 1, 0, 0, 1, 1, 1, 0, 0, 0, 1, 0, 1, 1, 1, 1, 0, 1, 1, 1, 1, 1, 1, 1, 1, 1, 1, 1, 1, 1, 0, 1, 0, 0, 0, 1, 1, 1, 1, 0, 1, 1, 1, 1, 1, 0, 1, 0, 0, 1, 1, 0, 0, 0, 0, 1, 0, 1, 1, 1, 1, 0, 1, 1, 0, 1, 0, 1, 1, 1, 0, 0, 1, 1, 0, 0, 0, 0, 1, 1, 1, 1, 1, 1, 1, 0, 0, 1, 1, 1, 1, 0, 1, 0, 0, 1, 1, 1, 1, 1, 1, 1, 1, 0, 0, 0, 1, 0, 1, 1, 1, 0, 1, 1, 1, 0, 0, 1, 1, 1, 1, 1, 1, 0, 1, 0, 1, 1, 1, 1, 1, 1, 0, 1, 0, 1, 1, 1, 1, 1, 1, 0, 1, 1, 1, 0, 1, 1, 1, 1, 1, 1, 0, 0, 1, 1, 1, 1, 1, 1, 1, 1, 1, 1, 1, 0, 1, 1, 1, 0, 1, 0, 1, 1, 0, 1, 1, 1, 0, 1, 1, 1, 1, 0, 0, 1, 0, 1, 1, 1, 1, 1, 1, 1, 1, 1, 0, 1, 1, 1, 0, 1, 1, 1, 1, 0, 1, 1, 1, 1, 0, 1, 1, 1, 0, 1, 1, 1, 1, 1, 1, 0, 0, 1, 0, 0, 1, 1, 1, 1, 0, 1, 1, 1, 1, 0, 1, 0, 1, 0, 1, 1, 1, 0, 1, 0, 0, 1, 1, 1, 0, 1, 1, 0, 1, 1, 0, 1, 1, 0, 0, 1, 0, 1, 1, 0, 1, 1, 1, 1, 0, 1, 1, 1, 1, 1, 0, 1, 1, 0, 1, 1, 1, 1, 1, 1, 1, 0, 1, 1, 1, 0, 1, 1, 0, 0, 1, 0, 1, 1, 1, 1, 1, 0, 1, 1, 1, 0, 1, 1, 1, 1, 1, 0, 1, 1, 1, 1, 0, 1, 1, 1, 0, 1, 0, 0, 1, 1, 1, 1, 1, 1, 0, 1, 1, 1, 1, 1, 1, 1, 1, 1, 1, 1, 0, 1, 0, 0, 0, 0, 0, 1, 1, 1, 1, 0, 1, 1, 1, 1, 1, 1, 0, 1, 1, 1, 1, 1, 0, 0, 0, 1, 0, 0, 1, 1, 0, 1, 1, 1, 1, 0, 0, 0, 1, 0, 1, 0, 0, 0, 0, 1, 0, 1, 1, 1, 1, 0, 0, 0, 0, 1]\n",
      "+-------------------------------------+\n",
      "|  Results for SmolLM2-1.7B Few-Shot  |\n",
      "+----------------------------+--------+\n",
      "|           Metric           | Value  |\n",
      "+----------------------------+--------+\n",
      "|          Accuracy          |  0.81  |\n",
      "|    Recall (Sensitivity)    |  1.00  |\n",
      "|        Specificity         |  0.62  |\n",
      "|         Precision          |  0.72  |\n",
      "|          F-Score           |  0.84  |\n",
      "|     % True Predictions     | 68.40% |\n",
      "|    % False Predictions     | 31.60% |\n",
      "|  Total Inference Time (s)  |  6.86  |\n",
      "| Average Inference Time (s) |  0.01  |\n",
      "+----------------------------+--------+\n"
     ]
    },
    {
     "name": "stderr",
     "output_type": "stream",
     "text": [
      "\n"
     ]
    }
   ],
   "source": [
    "few_17_results = evaluate_model(model, tokenizer, device, test_dataset, shot_type='few')\n",
    "\n",
    "few_17_table = create_results_table(few_17_results, model_name=\"SmolLM2-1.7B Few-Shot\")\n",
    "print(few_17_table)"
   ]
  },
  {
   "cell_type": "markdown",
   "metadata": {},
   "source": [
    "# Print All Results"
   ]
  },
  {
   "cell_type": "code",
   "execution_count": 14,
   "metadata": {},
   "outputs": [
    {
     "name": "stdout",
     "output_type": "stream",
     "text": [
      "All models evaluated successfully!\n",
      "+------------------------+----------+----------------------+-------------+-----------+---------+--------------------+---------------------+--------------------------+------------------------+\n",
      "|         Model          | Accuracy | Recall (Sensitivity) | Specificity | Precision | F-Score | % True Predictions | % False Predictions | Total Inference Time (s) | Avg Inference Time (s) |\n",
      "+------------------------+----------+----------------------+-------------+-----------+---------+--------------------+---------------------+--------------------------+------------------------+\n",
      "| SmolLM2-135M Zero-Shot |   0.51   |         0.01         |     0.99    |    0.60   |   0.02  |       1.00%        |        99.00%       |           9.43           |          0.02          |\n",
      "| SmolLM2-135M Few-Shot  |   0.59   |         0.74         |     0.43    |    0.56   |   0.64  |       65.40%       |        34.60%       |           9.36           |          0.02          |\n",
      "| SmolLM2-360M Zero-Shot |   0.55   |         1.00         |     0.11    |    0.52   |   0.69  |       94.40%       |        5.60%        |          10.07           |          0.02          |\n",
      "| SmolLM2-360M Few-Shot  |   0.66   |         0.99         |     0.35    |    0.60   |   0.74  |       81.60%       |        18.40%       |           9.94           |          0.02          |\n",
      "| SmolLM2-1.7B Zero-Shot |   0.71   |         0.98         |     0.46    |    0.64   |   0.77  |       75.80%       |        24.20%       |           6.88           |          0.01          |\n",
      "| SmolLM2-1.7B Few-Shot  |   0.81   |         1.00         |     0.62    |    0.72   |   0.84  |       68.40%       |        31.60%       |           6.86           |          0.01          |\n",
      "+------------------------+----------+----------------------+-------------+-----------+---------+--------------------+---------------------+--------------------------+------------------------+\n",
      "[{'accuracy': 0.51, 'recall': 0.012195121951219513, 'specificity': 0.9921259842519685, 'precision': 0.6, 'f_score': 0.02390438247011952, 'true_percent': 1.0, 'false_percent': 99.0, 'total_inference_time': 9.430721044540405, 'average_inference_time': 0.01886144208908081}, {'accuracy': 0.586, 'recall': 0.7439024390243902, 'specificity': 0.4330708661417323, 'precision': 0.5596330275229358, 'f_score': 0.6387434554973822, 'true_percent': 65.4, 'false_percent': 34.599999999999994, 'total_inference_time': 9.355045080184937, 'average_inference_time': 0.018710090160369872}, {'accuracy': 0.548, 'recall': 1.0, 'specificity': 0.11023622047244094, 'precision': 0.5211864406779662, 'f_score': 0.6852367688022284, 'true_percent': 94.39999999999999, 'false_percent': 5.6000000000000005, 'total_inference_time': 10.07353663444519, 'average_inference_time': 0.02014707326889038}, {'accuracy': 0.664, 'recall': 0.9878048780487805, 'specificity': 0.35039370078740156, 'precision': 0.5955882352941176, 'f_score': 0.7431192660550457, 'true_percent': 81.6, 'false_percent': 18.4, 'total_inference_time': 9.93777847290039, 'average_inference_time': 0.01987555694580078}, {'accuracy': 0.714, 'recall': 0.9796747967479674, 'specificity': 0.4566929133858268, 'precision': 0.6358839050131926, 'f_score': 0.7712, 'true_percent': 75.8, 'false_percent': 24.2, 'total_inference_time': 6.8844153881073, 'average_inference_time': 0.013768830776214599}, {'accuracy': 0.808, 'recall': 1.0, 'specificity': 0.6220472440944882, 'precision': 0.7192982456140351, 'f_score': 0.8367346938775511, 'true_percent': 68.4, 'false_percent': 31.6, 'total_inference_time': 6.858708620071411, 'average_inference_time': 0.013717417240142821}]\n"
     ]
    }
   ],
   "source": [
    "print(\"All models evaluated successfully!\")\n",
    "\n",
    "results_dicts = [\n",
    "    zero_135_results,\n",
    "    few_135_results,\n",
    "    zero_360_results,\n",
    "    few_360_results,\n",
    "    zero_17_results,\n",
    "    few_17_results,\n",
    "]\n",
    "\n",
    "# List of model names\n",
    "model_names = [\n",
    "    \"SmolLM2-135M Zero-Shot\",\n",
    "    \"SmolLM2-135M Few-Shot\",\n",
    "    \"SmolLM2-360M Zero-Shot\",\n",
    "    \"SmolLM2-360M Few-Shot\",\n",
    "    \"SmolLM2-1.7B Zero-Shot\",\n",
    "    \"SmolLM2-1.7B Few-Shot\",\n",
    "]\n",
    "\n",
    "table = PrettyTable()\n",
    "\n",
    "# Define the columns\n",
    "table.field_names = [\n",
    "    \"Model\",\n",
    "    \"Accuracy\",\n",
    "    \"Recall (Sensitivity)\",\n",
    "    \"Specificity\",\n",
    "    \"Precision\",\n",
    "    \"F-Score\",\n",
    "    \"% True Predictions\",\n",
    "    \"% False Predictions\",\n",
    "    \"Total Inference Time (s)\",\n",
    "    \"Avg Inference Time (s)\"\n",
    "]\n",
    "\n",
    "# Populate the table\n",
    "for model_name, results in zip(model_names, results_dicts):\n",
    "    table.add_row([\n",
    "        model_name,\n",
    "        f\"{results['accuracy']:.2f}\",\n",
    "        f\"{results['recall']:.2f}\",\n",
    "        f\"{results['specificity']:.2f}\",\n",
    "        f\"{results['precision']:.2f}\",\n",
    "        f\"{results['f_score']:.2f}\",\n",
    "        f\"{results['true_percent']:.2f}%\",\n",
    "        f\"{results['false_percent']:.2f}%\",\n",
    "        f\"{results['total_inference_time']:.2f}\",\n",
    "        f\"{results['average_inference_time']:.2f}\",\n",
    "    ])\n",
    "\n",
    "print(table)\n",
    "print(results_dicts)"
   ]
  },
  {
   "cell_type": "markdown",
   "metadata": {},
   "source": [
    "# Models tend to say true more because they see it first in the prompt, but to counter this they do default to negative. MENTION IN REPORT"
   ]
  },
  {
   "cell_type": "markdown",
   "metadata": {},
   "source": [
    "# Cleanup Cuda"
   ]
  },
  {
   "cell_type": "code",
   "execution_count": 15,
   "metadata": {},
   "outputs": [],
   "source": [
    "# Clears cuda from last run\n",
    "# if device == \"cuda\":\n",
    "#     torch.cuda.empty_cache()\n",
    "#     torch.cuda.ipc_collect()\n",
    "#     torch.cuda.reset_peak_memory_stats()"
   ]
  }
 ],
 "metadata": {
  "kernelspec": {
   "display_name": "Python [conda env:dl-fp]",
   "language": "python",
   "name": "conda-env-dl-fp-py"
  },
  "language_info": {
   "codemirror_mode": {
    "name": "ipython",
    "version": 3
   },
   "file_extension": ".py",
   "mimetype": "text/x-python",
   "name": "python",
   "nbconvert_exporter": "python",
   "pygments_lexer": "ipython3",
   "version": "3.12.7"
  }
 },
 "nbformat": 4,
 "nbformat_minor": 2
}
